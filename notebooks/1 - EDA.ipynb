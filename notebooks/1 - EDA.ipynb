{
 "cells": [
  {
   "cell_type": "markdown",
   "id": "contained-lecture",
   "metadata": {},
   "source": [
    "# Exploration of raw data\n",
    "\n",
    "Gathering the raw data, reading into python, and exploring. "
   ]
  },
  {
   "cell_type": "markdown",
   "id": "backed-management",
   "metadata": {},
   "source": [
    "## Loading and processing data\n",
    "\n",
    "This notebook is intended to run in the root directory of the project."
   ]
  },
  {
   "cell_type": "code",
   "execution_count": 1,
   "id": "regional-aging",
   "metadata": {},
   "outputs": [
    {
     "name": "stdout",
     "output_type": "stream",
     "text": [
      "/project\n"
     ]
    }
   ],
   "source": [
    "%cd .."
   ]
  },
  {
   "cell_type": "code",
   "execution_count": 85,
   "id": "handled-placement",
   "metadata": {},
   "outputs": [],
   "source": [
    "from pathlib import Path\n",
    "from pandas_profiling import ProfileReport\n",
    "from src.data import load_har_data_from_repo"
   ]
  },
  {
   "cell_type": "markdown",
   "id": "wicked-oxford",
   "metadata": {},
   "source": [
    "Make sure the data is downloaded."
   ]
  },
  {
   "cell_type": "code",
   "execution_count": 3,
   "id": "selective-catalyst",
   "metadata": {},
   "outputs": [],
   "source": [
    "load_har_data_from_repo('data/raw')"
   ]
  },
  {
   "cell_type": "markdown",
   "id": "median-dictionary",
   "metadata": {},
   "source": [
    "Load the feature data (this is 561 features derived from raw data, in addition to the subject and activity)"
   ]
  },
  {
   "cell_type": "code",
   "execution_count": 88,
   "id": "undefined-tunisia",
   "metadata": {},
   "outputs": [
    {
     "data": {
      "text/plain": [
       "(7352, 563)"
      ]
     },
     "execution_count": 88,
     "metadata": {},
     "output_type": "execute_result"
    }
   ],
   "source": [
    "features_df = load_feature_data(); \n",
    "features_df.to_csv('data/interim/feature_df.csv', index=False)\n",
    "features_df.shape"
   ]
  },
  {
   "cell_type": "code",
   "execution_count": 84,
   "id": "super-enough",
   "metadata": {},
   "outputs": [
    {
     "data": {
      "text/html": [
       "<div>\n",
       "<style scoped>\n",
       "    .dataframe tbody tr th:only-of-type {\n",
       "        vertical-align: middle;\n",
       "    }\n",
       "\n",
       "    .dataframe tbody tr th {\n",
       "        vertical-align: top;\n",
       "    }\n",
       "\n",
       "    .dataframe thead th {\n",
       "        text-align: right;\n",
       "    }\n",
       "</style>\n",
       "<table border=\"1\" class=\"dataframe\">\n",
       "  <thead>\n",
       "    <tr style=\"text-align: right;\">\n",
       "      <th></th>\n",
       "      <th>subject_id</th>\n",
       "      <th>tBodyAcc-mean()-X_1</th>\n",
       "      <th>tBodyAcc-mean()-Y_2</th>\n",
       "      <th>tBodyAcc-mean()-Z_3</th>\n",
       "      <th>tBodyAcc-std()-X_4</th>\n",
       "      <th>tBodyAcc-std()-Y_5</th>\n",
       "      <th>tBodyAcc-std()-Z_6</th>\n",
       "      <th>tBodyAcc-mad()-X_7</th>\n",
       "      <th>tBodyAcc-mad()-Y_8</th>\n",
       "      <th>tBodyAcc-mad()-Z_9</th>\n",
       "      <th>...</th>\n",
       "      <th>fBodyBodyGyroJerkMag-skewness()_553</th>\n",
       "      <th>fBodyBodyGyroJerkMag-kurtosis()_554</th>\n",
       "      <th>angle(tBodyAccMean,gravity)_555</th>\n",
       "      <th>angle(tBodyAccJerkMean),gravityMean)_556</th>\n",
       "      <th>angle(tBodyGyroMean,gravityMean)_557</th>\n",
       "      <th>angle(tBodyGyroJerkMean,gravityMean)_558</th>\n",
       "      <th>angle(X,gravityMean)_559</th>\n",
       "      <th>angle(Y,gravityMean)_560</th>\n",
       "      <th>angle(Z,gravityMean)_561</th>\n",
       "      <th>activity_id</th>\n",
       "    </tr>\n",
       "  </thead>\n",
       "  <tbody>\n",
       "    <tr>\n",
       "      <th>0</th>\n",
       "      <td>1</td>\n",
       "      <td>0.288585</td>\n",
       "      <td>-0.020294</td>\n",
       "      <td>-0.132905</td>\n",
       "      <td>-0.995279</td>\n",
       "      <td>-0.983111</td>\n",
       "      <td>-0.913526</td>\n",
       "      <td>-0.995112</td>\n",
       "      <td>-0.983185</td>\n",
       "      <td>-0.923527</td>\n",
       "      <td>...</td>\n",
       "      <td>-0.298676</td>\n",
       "      <td>-0.710304</td>\n",
       "      <td>-0.112754</td>\n",
       "      <td>0.030400</td>\n",
       "      <td>-0.464761</td>\n",
       "      <td>-0.018446</td>\n",
       "      <td>-0.841247</td>\n",
       "      <td>0.179941</td>\n",
       "      <td>-0.058627</td>\n",
       "      <td>5</td>\n",
       "    </tr>\n",
       "    <tr>\n",
       "      <th>1</th>\n",
       "      <td>1</td>\n",
       "      <td>0.278419</td>\n",
       "      <td>-0.016411</td>\n",
       "      <td>-0.123520</td>\n",
       "      <td>-0.998245</td>\n",
       "      <td>-0.975300</td>\n",
       "      <td>-0.960322</td>\n",
       "      <td>-0.998807</td>\n",
       "      <td>-0.974914</td>\n",
       "      <td>-0.957686</td>\n",
       "      <td>...</td>\n",
       "      <td>-0.595051</td>\n",
       "      <td>-0.861499</td>\n",
       "      <td>0.053477</td>\n",
       "      <td>-0.007435</td>\n",
       "      <td>-0.732626</td>\n",
       "      <td>0.703511</td>\n",
       "      <td>-0.844788</td>\n",
       "      <td>0.180289</td>\n",
       "      <td>-0.054317</td>\n",
       "      <td>5</td>\n",
       "    </tr>\n",
       "    <tr>\n",
       "      <th>2</th>\n",
       "      <td>1</td>\n",
       "      <td>0.279653</td>\n",
       "      <td>-0.019467</td>\n",
       "      <td>-0.113462</td>\n",
       "      <td>-0.995380</td>\n",
       "      <td>-0.967187</td>\n",
       "      <td>-0.978944</td>\n",
       "      <td>-0.996520</td>\n",
       "      <td>-0.963668</td>\n",
       "      <td>-0.977469</td>\n",
       "      <td>...</td>\n",
       "      <td>-0.390748</td>\n",
       "      <td>-0.760104</td>\n",
       "      <td>-0.118559</td>\n",
       "      <td>0.177899</td>\n",
       "      <td>0.100699</td>\n",
       "      <td>0.808529</td>\n",
       "      <td>-0.848933</td>\n",
       "      <td>0.180637</td>\n",
       "      <td>-0.049118</td>\n",
       "      <td>5</td>\n",
       "    </tr>\n",
       "    <tr>\n",
       "      <th>3</th>\n",
       "      <td>1</td>\n",
       "      <td>0.279174</td>\n",
       "      <td>-0.026201</td>\n",
       "      <td>-0.123283</td>\n",
       "      <td>-0.996091</td>\n",
       "      <td>-0.983403</td>\n",
       "      <td>-0.990675</td>\n",
       "      <td>-0.997099</td>\n",
       "      <td>-0.982750</td>\n",
       "      <td>-0.989302</td>\n",
       "      <td>...</td>\n",
       "      <td>-0.117290</td>\n",
       "      <td>-0.482845</td>\n",
       "      <td>-0.036788</td>\n",
       "      <td>-0.012892</td>\n",
       "      <td>0.640011</td>\n",
       "      <td>-0.485366</td>\n",
       "      <td>-0.848649</td>\n",
       "      <td>0.181935</td>\n",
       "      <td>-0.047663</td>\n",
       "      <td>5</td>\n",
       "    </tr>\n",
       "    <tr>\n",
       "      <th>4</th>\n",
       "      <td>1</td>\n",
       "      <td>0.276629</td>\n",
       "      <td>-0.016570</td>\n",
       "      <td>-0.115362</td>\n",
       "      <td>-0.998139</td>\n",
       "      <td>-0.980817</td>\n",
       "      <td>-0.990482</td>\n",
       "      <td>-0.998321</td>\n",
       "      <td>-0.979672</td>\n",
       "      <td>-0.990441</td>\n",
       "      <td>...</td>\n",
       "      <td>-0.351471</td>\n",
       "      <td>-0.699205</td>\n",
       "      <td>0.123320</td>\n",
       "      <td>0.122542</td>\n",
       "      <td>0.693578</td>\n",
       "      <td>-0.615971</td>\n",
       "      <td>-0.847865</td>\n",
       "      <td>0.185151</td>\n",
       "      <td>-0.043892</td>\n",
       "      <td>5</td>\n",
       "    </tr>\n",
       "  </tbody>\n",
       "</table>\n",
       "<p>5 rows × 563 columns</p>\n",
       "</div>"
      ],
      "text/plain": [
       "   subject_id  tBodyAcc-mean()-X_1  tBodyAcc-mean()-Y_2  tBodyAcc-mean()-Z_3  \\\n",
       "0           1             0.288585            -0.020294            -0.132905   \n",
       "1           1             0.278419            -0.016411            -0.123520   \n",
       "2           1             0.279653            -0.019467            -0.113462   \n",
       "3           1             0.279174            -0.026201            -0.123283   \n",
       "4           1             0.276629            -0.016570            -0.115362   \n",
       "\n",
       "   tBodyAcc-std()-X_4  tBodyAcc-std()-Y_5  tBodyAcc-std()-Z_6  \\\n",
       "0           -0.995279           -0.983111           -0.913526   \n",
       "1           -0.998245           -0.975300           -0.960322   \n",
       "2           -0.995380           -0.967187           -0.978944   \n",
       "3           -0.996091           -0.983403           -0.990675   \n",
       "4           -0.998139           -0.980817           -0.990482   \n",
       "\n",
       "   tBodyAcc-mad()-X_7  tBodyAcc-mad()-Y_8  tBodyAcc-mad()-Z_9  ...  \\\n",
       "0           -0.995112           -0.983185           -0.923527  ...   \n",
       "1           -0.998807           -0.974914           -0.957686  ...   \n",
       "2           -0.996520           -0.963668           -0.977469  ...   \n",
       "3           -0.997099           -0.982750           -0.989302  ...   \n",
       "4           -0.998321           -0.979672           -0.990441  ...   \n",
       "\n",
       "   fBodyBodyGyroJerkMag-skewness()_553  fBodyBodyGyroJerkMag-kurtosis()_554  \\\n",
       "0                            -0.298676                            -0.710304   \n",
       "1                            -0.595051                            -0.861499   \n",
       "2                            -0.390748                            -0.760104   \n",
       "3                            -0.117290                            -0.482845   \n",
       "4                            -0.351471                            -0.699205   \n",
       "\n",
       "   angle(tBodyAccMean,gravity)_555  angle(tBodyAccJerkMean),gravityMean)_556  \\\n",
       "0                        -0.112754                                  0.030400   \n",
       "1                         0.053477                                 -0.007435   \n",
       "2                        -0.118559                                  0.177899   \n",
       "3                        -0.036788                                 -0.012892   \n",
       "4                         0.123320                                  0.122542   \n",
       "\n",
       "   angle(tBodyGyroMean,gravityMean)_557  \\\n",
       "0                             -0.464761   \n",
       "1                             -0.732626   \n",
       "2                              0.100699   \n",
       "3                              0.640011   \n",
       "4                              0.693578   \n",
       "\n",
       "   angle(tBodyGyroJerkMean,gravityMean)_558  angle(X,gravityMean)_559  \\\n",
       "0                                 -0.018446                 -0.841247   \n",
       "1                                  0.703511                 -0.844788   \n",
       "2                                  0.808529                 -0.848933   \n",
       "3                                 -0.485366                 -0.848649   \n",
       "4                                 -0.615971                 -0.847865   \n",
       "\n",
       "   angle(Y,gravityMean)_560  angle(Z,gravityMean)_561  activity_id  \n",
       "0                  0.179941                 -0.058627            5  \n",
       "1                  0.180289                 -0.054317            5  \n",
       "2                  0.180637                 -0.049118            5  \n",
       "3                  0.181935                 -0.047663            5  \n",
       "4                  0.185151                 -0.043892            5  \n",
       "\n",
       "[5 rows x 563 columns]"
      ]
     },
     "execution_count": 84,
     "metadata": {},
     "output_type": "execute_result"
    }
   ],
   "source": [
    "features_df.head()"
   ]
  },
  {
   "cell_type": "markdown",
   "id": "sixth-animal",
   "metadata": {},
   "source": [
    "## Compile EDA report via `pandas-profiling`"
   ]
  },
  {
   "cell_type": "code",
   "execution_count": 86,
   "id": "golden-sharp",
   "metadata": {},
   "outputs": [],
   "source": [
    "profile = ProfileReport(features_df, title=\"Pandas Profiling Report\", minimal=True)"
   ]
  },
  {
   "cell_type": "code",
   "execution_count": 87,
   "id": "virgin-quantum",
   "metadata": {},
   "outputs": [
    {
     "data": {
      "application/vnd.jupyter.widget-view+json": {
       "model_id": "ca5ae287ecc2466599f1f9fecb55bbd2",
       "version_major": 2,
       "version_minor": 0
      },
      "text/plain": [
       "Summarize dataset:   0%|          | 0/571 [00:00<?, ?it/s]"
      ]
     },
     "metadata": {},
     "output_type": "display_data"
    },
    {
     "data": {
      "application/vnd.jupyter.widget-view+json": {
       "model_id": "880e88093aca4e388ba744d55ecfabbe",
       "version_major": 2,
       "version_minor": 0
      },
      "text/plain": [
       "Generate report structure:   0%|          | 0/1 [00:00<?, ?it/s]"
      ]
     },
     "metadata": {},
     "output_type": "display_data"
    },
    {
     "data": {
      "application/vnd.jupyter.widget-view+json": {
       "model_id": "6670b2bfb56e4c28af39c6f63ae87da7",
       "version_major": 2,
       "version_minor": 0
      },
      "text/plain": [
       "Render HTML:   0%|          | 0/1 [00:00<?, ?it/s]"
      ]
     },
     "metadata": {},
     "output_type": "display_data"
    },
    {
     "data": {
      "application/vnd.jupyter.widget-view+json": {
       "model_id": "da05f952da274a9e9ea2932d5fdd585c",
       "version_major": 2,
       "version_minor": 0
      },
      "text/plain": [
       "Export report to file:   0%|          | 0/1 [00:00<?, ?it/s]"
      ]
     },
     "metadata": {},
     "output_type": "display_data"
    }
   ],
   "source": [
    "profile.to_file(\"reports/features-profiling.html\")"
   ]
  },
  {
   "cell_type": "code",
   "execution_count": null,
   "id": "robust-puzzle",
   "metadata": {},
   "outputs": [],
   "source": []
  }
 ],
 "metadata": {
  "kernelspec": {
   "display_name": "Python 3",
   "language": "python",
   "name": "python3"
  },
  "language_info": {
   "codemirror_mode": {
    "name": "ipython",
    "version": 3
   },
   "file_extension": ".py",
   "mimetype": "text/x-python",
   "name": "python",
   "nbconvert_exporter": "python",
   "pygments_lexer": "ipython3",
   "version": "3.8.6"
  }
 },
 "nbformat": 4,
 "nbformat_minor": 5
}
