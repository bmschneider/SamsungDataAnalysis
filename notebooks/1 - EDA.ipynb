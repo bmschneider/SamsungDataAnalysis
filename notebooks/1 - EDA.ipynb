{
 "cells": [
  {
   "cell_type": "markdown",
   "id": "typical-learning",
   "metadata": {},
   "source": [
    "# Exploration of raw data\n",
    "\n",
    "Gathering the raw data, reading into python, and exploring. "
   ]
  },
  {
   "cell_type": "markdown",
   "id": "alternative-russian",
   "metadata": {},
   "source": [
    "## Loading and processing data\n",
    "\n",
    "This notebook is intended to run in the root directory of the project."
   ]
  },
  {
   "cell_type": "code",
   "execution_count": 1,
   "id": "curious-antarctica",
   "metadata": {},
   "outputs": [
    {
     "name": "stdout",
     "output_type": "stream",
     "text": [
      "/project\n"
     ]
    }
   ],
   "source": [
    "%cd .."
   ]
  },
  {
   "cell_type": "code",
   "execution_count": 2,
   "id": "after-tablet",
   "metadata": {},
   "outputs": [],
   "source": [
    "import os\n",
    "from pathlib import Path\n",
    "from pandas_profiling import ProfileReport\n",
    "from src.data import *"
   ]
  },
  {
   "cell_type": "markdown",
   "id": "external-compact",
   "metadata": {},
   "source": [
    "Make sure the data is downloaded."
   ]
  },
  {
   "cell_type": "code",
   "execution_count": 3,
   "id": "perfect-florist",
   "metadata": {},
   "outputs": [
    {
     "name": "stdout",
     "output_type": "stream",
     "text": [
      "Data appears to be already obtained.\n"
     ]
    }
   ],
   "source": [
    "load_har_data_from_repo('data/raw')"
   ]
  },
  {
   "cell_type": "markdown",
   "id": "first-utility",
   "metadata": {},
   "source": [
    "### Loading the raw data\n",
    "\n",
    "The raw recorded data contains 9 signals, stored as 2.56s windows (128 points in each row). We load the data for either `train` or `test."
   ]
  },
  {
   "cell_type": "code",
   "execution_count": 4,
   "id": "altered-shanghai",
   "metadata": {},
   "outputs": [
    {
     "data": {
      "text/plain": [
       "(188608, 12)"
      ]
     },
     "execution_count": 4,
     "metadata": {},
     "output_type": "execute_result"
    }
   ],
   "source": [
    "raw_df = load_raw_data('test'); raw_df.shape"
   ]
  },
  {
   "cell_type": "code",
   "execution_count": 5,
   "id": "western-accessory",
   "metadata": {},
   "outputs": [
    {
     "data": {
      "text/html": [
       "<div>\n",
       "<style scoped>\n",
       "    .dataframe tbody tr th:only-of-type {\n",
       "        vertical-align: middle;\n",
       "    }\n",
       "\n",
       "    .dataframe tbody tr th {\n",
       "        vertical-align: top;\n",
       "    }\n",
       "\n",
       "    .dataframe thead th {\n",
       "        text-align: right;\n",
       "    }\n",
       "</style>\n",
       "<table border=\"1\" class=\"dataframe\">\n",
       "  <thead>\n",
       "    <tr style=\"text-align: right;\">\n",
       "      <th></th>\n",
       "      <th>subject_id</th>\n",
       "      <th>time_exp</th>\n",
       "      <th>body_acc_x</th>\n",
       "      <th>body_acc_y</th>\n",
       "      <th>body_acc_z</th>\n",
       "      <th>body_gyro_x</th>\n",
       "      <th>body_gyro_y</th>\n",
       "      <th>body_gyro_z</th>\n",
       "      <th>total_acc_x</th>\n",
       "      <th>total_acc_y</th>\n",
       "      <th>total_acc_z</th>\n",
       "      <th>activity_id</th>\n",
       "    </tr>\n",
       "  </thead>\n",
       "  <tbody>\n",
       "    <tr>\n",
       "      <th>0</th>\n",
       "      <td>2</td>\n",
       "      <td>0.00</td>\n",
       "      <td>0.011653</td>\n",
       "      <td>-0.029399</td>\n",
       "      <td>0.106826</td>\n",
       "      <td>0.437464</td>\n",
       "      <td>0.531349</td>\n",
       "      <td>0.136528</td>\n",
       "      <td>1.041216</td>\n",
       "      <td>-0.269796</td>\n",
       "      <td>0.023780</td>\n",
       "      <td>5</td>\n",
       "    </tr>\n",
       "    <tr>\n",
       "      <th>1</th>\n",
       "      <td>2</td>\n",
       "      <td>0.02</td>\n",
       "      <td>0.013109</td>\n",
       "      <td>-0.039729</td>\n",
       "      <td>0.152455</td>\n",
       "      <td>0.468264</td>\n",
       "      <td>0.721069</td>\n",
       "      <td>0.097622</td>\n",
       "      <td>1.041803</td>\n",
       "      <td>-0.280025</td>\n",
       "      <td>0.076293</td>\n",
       "      <td>5</td>\n",
       "    </tr>\n",
       "    <tr>\n",
       "      <th>2</th>\n",
       "      <td>2</td>\n",
       "      <td>0.04</td>\n",
       "      <td>0.011269</td>\n",
       "      <td>-0.052406</td>\n",
       "      <td>0.216846</td>\n",
       "      <td>0.498257</td>\n",
       "      <td>0.520328</td>\n",
       "      <td>0.083556</td>\n",
       "      <td>1.039086</td>\n",
       "      <td>-0.292663</td>\n",
       "      <td>0.147475</td>\n",
       "      <td>5</td>\n",
       "    </tr>\n",
       "    <tr>\n",
       "      <th>3</th>\n",
       "      <td>2</td>\n",
       "      <td>0.06</td>\n",
       "      <td>0.027831</td>\n",
       "      <td>-0.052106</td>\n",
       "      <td>0.202581</td>\n",
       "      <td>0.479396</td>\n",
       "      <td>0.372625</td>\n",
       "      <td>0.022861</td>\n",
       "      <td>1.054768</td>\n",
       "      <td>-0.292384</td>\n",
       "      <td>0.139906</td>\n",
       "      <td>5</td>\n",
       "    </tr>\n",
       "    <tr>\n",
       "      <th>4</th>\n",
       "      <td>2</td>\n",
       "      <td>0.08</td>\n",
       "      <td>0.002318</td>\n",
       "      <td>-0.045470</td>\n",
       "      <td>0.176010</td>\n",
       "      <td>0.389894</td>\n",
       "      <td>0.414541</td>\n",
       "      <td>-0.025939</td>\n",
       "      <td>1.028376</td>\n",
       "      <td>-0.285826</td>\n",
       "      <td>0.119934</td>\n",
       "      <td>5</td>\n",
       "    </tr>\n",
       "  </tbody>\n",
       "</table>\n",
       "</div>"
      ],
      "text/plain": [
       "   subject_id  time_exp  body_acc_x  body_acc_y  body_acc_z  body_gyro_x  \\\n",
       "0           2      0.00    0.011653   -0.029399    0.106826     0.437464   \n",
       "1           2      0.02    0.013109   -0.039729    0.152455     0.468264   \n",
       "2           2      0.04    0.011269   -0.052406    0.216846     0.498257   \n",
       "3           2      0.06    0.027831   -0.052106    0.202581     0.479396   \n",
       "4           2      0.08    0.002318   -0.045470    0.176010     0.389894   \n",
       "\n",
       "   body_gyro_y  body_gyro_z  total_acc_x  total_acc_y  total_acc_z  \\\n",
       "0     0.531349     0.136528     1.041216    -0.269796     0.023780   \n",
       "1     0.721069     0.097622     1.041803    -0.280025     0.076293   \n",
       "2     0.520328     0.083556     1.039086    -0.292663     0.147475   \n",
       "3     0.372625     0.022861     1.054768    -0.292384     0.139906   \n",
       "4     0.414541    -0.025939     1.028376    -0.285826     0.119934   \n",
       "\n",
       "   activity_id  \n",
       "0            5  \n",
       "1            5  \n",
       "2            5  \n",
       "3            5  \n",
       "4            5  "
      ]
     },
     "execution_count": 5,
     "metadata": {},
     "output_type": "execute_result"
    }
   ],
   "source": [
    "raw_df.head()"
   ]
  },
  {
   "cell_type": "markdown",
   "id": "thousand-johnston",
   "metadata": {},
   "source": [
    "### Loading the feature data\n",
    "\n",
    "The data provides a set of standard signal processing features. This is a total of 561 features. There are some duplicate fields, and we append the column index to their names."
   ]
  },
  {
   "cell_type": "code",
   "execution_count": 6,
   "id": "colonial-shield",
   "metadata": {},
   "outputs": [
    {
     "data": {
      "text/plain": [
       "(2947, 563)"
      ]
     },
     "execution_count": 6,
     "metadata": {},
     "output_type": "execute_result"
    }
   ],
   "source": [
    "features_df = load_feature_data('test'); \n",
    "features_df.shape"
   ]
  },
  {
   "cell_type": "code",
   "execution_count": 7,
   "id": "fossil-wiring",
   "metadata": {},
   "outputs": [
    {
     "data": {
      "text/html": [
       "<div>\n",
       "<style scoped>\n",
       "    .dataframe tbody tr th:only-of-type {\n",
       "        vertical-align: middle;\n",
       "    }\n",
       "\n",
       "    .dataframe tbody tr th {\n",
       "        vertical-align: top;\n",
       "    }\n",
       "\n",
       "    .dataframe thead th {\n",
       "        text-align: right;\n",
       "    }\n",
       "</style>\n",
       "<table border=\"1\" class=\"dataframe\">\n",
       "  <thead>\n",
       "    <tr style=\"text-align: right;\">\n",
       "      <th></th>\n",
       "      <th>subject_id</th>\n",
       "      <th>tBodyAcc-mean()-X</th>\n",
       "      <th>tBodyAcc-mean()-Y</th>\n",
       "      <th>tBodyAcc-mean()-Z</th>\n",
       "      <th>tBodyAcc-std()-X</th>\n",
       "      <th>tBodyAcc-std()-Y</th>\n",
       "      <th>tBodyAcc-std()-Z</th>\n",
       "      <th>tBodyAcc-mad()-X</th>\n",
       "      <th>tBodyAcc-mad()-Y</th>\n",
       "      <th>tBodyAcc-mad()-Z</th>\n",
       "      <th>...</th>\n",
       "      <th>fBodyBodyGyroJerkMag-skewness()</th>\n",
       "      <th>fBodyBodyGyroJerkMag-kurtosis()</th>\n",
       "      <th>angle(tBodyAccMean,gravity)</th>\n",
       "      <th>angle(tBodyAccJerkMean),gravityMean)</th>\n",
       "      <th>angle(tBodyGyroMean,gravityMean)</th>\n",
       "      <th>angle(tBodyGyroJerkMean,gravityMean)</th>\n",
       "      <th>angle(X,gravityMean)</th>\n",
       "      <th>angle(Y,gravityMean)</th>\n",
       "      <th>angle(Z,gravityMean)</th>\n",
       "      <th>activity_id</th>\n",
       "    </tr>\n",
       "  </thead>\n",
       "  <tbody>\n",
       "    <tr>\n",
       "      <th>0</th>\n",
       "      <td>2</td>\n",
       "      <td>0.257178</td>\n",
       "      <td>-0.023285</td>\n",
       "      <td>-0.014654</td>\n",
       "      <td>-0.938404</td>\n",
       "      <td>-0.920091</td>\n",
       "      <td>-0.667683</td>\n",
       "      <td>-0.952501</td>\n",
       "      <td>-0.925249</td>\n",
       "      <td>-0.674302</td>\n",
       "      <td>...</td>\n",
       "      <td>-0.330370</td>\n",
       "      <td>-0.705974</td>\n",
       "      <td>0.006462</td>\n",
       "      <td>0.162920</td>\n",
       "      <td>-0.825886</td>\n",
       "      <td>0.271151</td>\n",
       "      <td>-0.720009</td>\n",
       "      <td>0.276801</td>\n",
       "      <td>-0.057978</td>\n",
       "      <td>5</td>\n",
       "    </tr>\n",
       "    <tr>\n",
       "      <th>1</th>\n",
       "      <td>2</td>\n",
       "      <td>0.286027</td>\n",
       "      <td>-0.013163</td>\n",
       "      <td>-0.119083</td>\n",
       "      <td>-0.975415</td>\n",
       "      <td>-0.967458</td>\n",
       "      <td>-0.944958</td>\n",
       "      <td>-0.986799</td>\n",
       "      <td>-0.968401</td>\n",
       "      <td>-0.945823</td>\n",
       "      <td>...</td>\n",
       "      <td>-0.121845</td>\n",
       "      <td>-0.594944</td>\n",
       "      <td>-0.083495</td>\n",
       "      <td>0.017500</td>\n",
       "      <td>-0.434375</td>\n",
       "      <td>0.920593</td>\n",
       "      <td>-0.698091</td>\n",
       "      <td>0.281343</td>\n",
       "      <td>-0.083898</td>\n",
       "      <td>5</td>\n",
       "    </tr>\n",
       "    <tr>\n",
       "      <th>2</th>\n",
       "      <td>2</td>\n",
       "      <td>0.275485</td>\n",
       "      <td>-0.026050</td>\n",
       "      <td>-0.118152</td>\n",
       "      <td>-0.993819</td>\n",
       "      <td>-0.969926</td>\n",
       "      <td>-0.962748</td>\n",
       "      <td>-0.994403</td>\n",
       "      <td>-0.970735</td>\n",
       "      <td>-0.963483</td>\n",
       "      <td>...</td>\n",
       "      <td>-0.190422</td>\n",
       "      <td>-0.640736</td>\n",
       "      <td>-0.034956</td>\n",
       "      <td>0.202302</td>\n",
       "      <td>0.064103</td>\n",
       "      <td>0.145068</td>\n",
       "      <td>-0.702771</td>\n",
       "      <td>0.280083</td>\n",
       "      <td>-0.079346</td>\n",
       "      <td>5</td>\n",
       "    </tr>\n",
       "    <tr>\n",
       "      <th>3</th>\n",
       "      <td>2</td>\n",
       "      <td>0.270298</td>\n",
       "      <td>-0.032614</td>\n",
       "      <td>-0.117520</td>\n",
       "      <td>-0.994743</td>\n",
       "      <td>-0.973268</td>\n",
       "      <td>-0.967091</td>\n",
       "      <td>-0.995274</td>\n",
       "      <td>-0.974471</td>\n",
       "      <td>-0.968897</td>\n",
       "      <td>...</td>\n",
       "      <td>-0.344418</td>\n",
       "      <td>-0.736124</td>\n",
       "      <td>-0.017067</td>\n",
       "      <td>0.154438</td>\n",
       "      <td>0.340134</td>\n",
       "      <td>0.296407</td>\n",
       "      <td>-0.698954</td>\n",
       "      <td>0.284114</td>\n",
       "      <td>-0.077108</td>\n",
       "      <td>5</td>\n",
       "    </tr>\n",
       "    <tr>\n",
       "      <th>4</th>\n",
       "      <td>2</td>\n",
       "      <td>0.274833</td>\n",
       "      <td>-0.027848</td>\n",
       "      <td>-0.129527</td>\n",
       "      <td>-0.993852</td>\n",
       "      <td>-0.967445</td>\n",
       "      <td>-0.978295</td>\n",
       "      <td>-0.994111</td>\n",
       "      <td>-0.965953</td>\n",
       "      <td>-0.977346</td>\n",
       "      <td>...</td>\n",
       "      <td>-0.534685</td>\n",
       "      <td>-0.846595</td>\n",
       "      <td>-0.002223</td>\n",
       "      <td>-0.040046</td>\n",
       "      <td>0.736715</td>\n",
       "      <td>-0.118545</td>\n",
       "      <td>-0.692245</td>\n",
       "      <td>0.290722</td>\n",
       "      <td>-0.073857</td>\n",
       "      <td>5</td>\n",
       "    </tr>\n",
       "  </tbody>\n",
       "</table>\n",
       "<p>5 rows × 563 columns</p>\n",
       "</div>"
      ],
      "text/plain": [
       "   subject_id  tBodyAcc-mean()-X  tBodyAcc-mean()-Y  tBodyAcc-mean()-Z  \\\n",
       "0           2           0.257178          -0.023285          -0.014654   \n",
       "1           2           0.286027          -0.013163          -0.119083   \n",
       "2           2           0.275485          -0.026050          -0.118152   \n",
       "3           2           0.270298          -0.032614          -0.117520   \n",
       "4           2           0.274833          -0.027848          -0.129527   \n",
       "\n",
       "   tBodyAcc-std()-X  tBodyAcc-std()-Y  tBodyAcc-std()-Z  tBodyAcc-mad()-X  \\\n",
       "0         -0.938404         -0.920091         -0.667683         -0.952501   \n",
       "1         -0.975415         -0.967458         -0.944958         -0.986799   \n",
       "2         -0.993819         -0.969926         -0.962748         -0.994403   \n",
       "3         -0.994743         -0.973268         -0.967091         -0.995274   \n",
       "4         -0.993852         -0.967445         -0.978295         -0.994111   \n",
       "\n",
       "   tBodyAcc-mad()-Y  tBodyAcc-mad()-Z  ...  fBodyBodyGyroJerkMag-skewness()  \\\n",
       "0         -0.925249         -0.674302  ...                        -0.330370   \n",
       "1         -0.968401         -0.945823  ...                        -0.121845   \n",
       "2         -0.970735         -0.963483  ...                        -0.190422   \n",
       "3         -0.974471         -0.968897  ...                        -0.344418   \n",
       "4         -0.965953         -0.977346  ...                        -0.534685   \n",
       "\n",
       "   fBodyBodyGyroJerkMag-kurtosis()  angle(tBodyAccMean,gravity)  \\\n",
       "0                        -0.705974                     0.006462   \n",
       "1                        -0.594944                    -0.083495   \n",
       "2                        -0.640736                    -0.034956   \n",
       "3                        -0.736124                    -0.017067   \n",
       "4                        -0.846595                    -0.002223   \n",
       "\n",
       "   angle(tBodyAccJerkMean),gravityMean)  angle(tBodyGyroMean,gravityMean)  \\\n",
       "0                              0.162920                         -0.825886   \n",
       "1                              0.017500                         -0.434375   \n",
       "2                              0.202302                          0.064103   \n",
       "3                              0.154438                          0.340134   \n",
       "4                             -0.040046                          0.736715   \n",
       "\n",
       "   angle(tBodyGyroJerkMean,gravityMean)  angle(X,gravityMean)  \\\n",
       "0                              0.271151             -0.720009   \n",
       "1                              0.920593             -0.698091   \n",
       "2                              0.145068             -0.702771   \n",
       "3                              0.296407             -0.698954   \n",
       "4                             -0.118545             -0.692245   \n",
       "\n",
       "   angle(Y,gravityMean)  angle(Z,gravityMean)  activity_id  \n",
       "0              0.276801             -0.057978            5  \n",
       "1              0.281343             -0.083898            5  \n",
       "2              0.280083             -0.079346            5  \n",
       "3              0.284114             -0.077108            5  \n",
       "4              0.290722             -0.073857            5  \n",
       "\n",
       "[5 rows x 563 columns]"
      ]
     },
     "execution_count": 7,
     "metadata": {},
     "output_type": "execute_result"
    }
   ],
   "source": [
    "features_df.head()"
   ]
  },
  {
   "cell_type": "markdown",
   "id": "impossible-cartridge",
   "metadata": {},
   "source": [
    "## Standard EDA report via `pandas-profiling`\n",
    "\n",
    "For both the raw and feature data, we compile comprehensive EDA reports."
   ]
  },
  {
   "cell_type": "code",
   "execution_count": 8,
   "id": "english-volleyball",
   "metadata": {},
   "outputs": [],
   "source": [
    "profile_raw = ProfileReport(raw_df, title=\"Pandas Profiling Report: raw signal data\")"
   ]
  },
  {
   "cell_type": "code",
   "execution_count": 9,
   "id": "sticky-replica",
   "metadata": {},
   "outputs": [
    {
     "data": {
      "application/vnd.jupyter.widget-view+json": {
       "model_id": "3d7088101a604452a55c86a5b030f4b6",
       "version_major": 2,
       "version_minor": 0
      },
      "text/plain": [
       "Summarize dataset:   0%|          | 0/25 [00:00<?, ?it/s]"
      ]
     },
     "metadata": {},
     "output_type": "display_data"
    },
    {
     "name": "stderr",
     "output_type": "stream",
     "text": [
      "/opt/conda/lib/python3.8/site-packages/scipy/stats/stats.py:4594: RuntimeWarning: overflow encountered in long_scalars\n",
      "  (2 * xtie * ytie) / m + x0 * y0 / (9 * m * (size - 2)))\n"
     ]
    },
    {
     "data": {
      "application/vnd.jupyter.widget-view+json": {
       "model_id": "30cec6a928ab4df488d51ae0bbbe49bf",
       "version_major": 2,
       "version_minor": 0
      },
      "text/plain": [
       "Generate report structure:   0%|          | 0/1 [00:00<?, ?it/s]"
      ]
     },
     "metadata": {},
     "output_type": "display_data"
    },
    {
     "data": {
      "application/vnd.jupyter.widget-view+json": {
       "model_id": "99ac8a314e894e92a8da3442c3b0a92b",
       "version_major": 2,
       "version_minor": 0
      },
      "text/plain": [
       "Render HTML:   0%|          | 0/1 [00:00<?, ?it/s]"
      ]
     },
     "metadata": {},
     "output_type": "display_data"
    },
    {
     "data": {
      "application/vnd.jupyter.widget-view+json": {
       "model_id": "bd9786e0360a46d497e81cb98fa54e38",
       "version_major": 2,
       "version_minor": 0
      },
      "text/plain": [
       "Export report to file:   0%|          | 0/1 [00:00<?, ?it/s]"
      ]
     },
     "metadata": {},
     "output_type": "display_data"
    }
   ],
   "source": [
    "if not os.path.exists('reports'): os.mkdir('reports')\n",
    "profile_raw.to_file(\"reports/raw-profiling.html\")"
   ]
  },
  {
   "cell_type": "markdown",
   "id": "warming-ready",
   "metadata": {},
   "source": [
    "For the feature data we only compute the minimal report since there are many variables."
   ]
  },
  {
   "cell_type": "code",
   "execution_count": 10,
   "id": "centered-declaration",
   "metadata": {},
   "outputs": [],
   "source": [
    "profile = ProfileReport(features_df, title=\"Pandas Profiling Report: feature signal data\", minimal=True)"
   ]
  },
  {
   "cell_type": "code",
   "execution_count": 11,
   "id": "upper-session",
   "metadata": {},
   "outputs": [
    {
     "data": {
      "application/vnd.jupyter.widget-view+json": {
       "model_id": "da775cba61464b8db3e726f713130f95",
       "version_major": 2,
       "version_minor": 0
      },
      "text/plain": [
       "Summarize dataset:   0%|          | 0/571 [00:00<?, ?it/s]"
      ]
     },
     "metadata": {},
     "output_type": "display_data"
    },
    {
     "data": {
      "application/vnd.jupyter.widget-view+json": {
       "model_id": "4d43b18cb18d4d79ad001590486514d1",
       "version_major": 2,
       "version_minor": 0
      },
      "text/plain": [
       "Generate report structure:   0%|          | 0/1 [00:00<?, ?it/s]"
      ]
     },
     "metadata": {},
     "output_type": "display_data"
    },
    {
     "data": {
      "application/vnd.jupyter.widget-view+json": {
       "model_id": "30d63bb98b5f44c1b723282e8b5b2335",
       "version_major": 2,
       "version_minor": 0
      },
      "text/plain": [
       "Render HTML:   0%|          | 0/1 [00:00<?, ?it/s]"
      ]
     },
     "metadata": {},
     "output_type": "display_data"
    },
    {
     "data": {
      "application/vnd.jupyter.widget-view+json": {
       "model_id": "b2a06f8822ae4e99b5121379f58dd715",
       "version_major": 2,
       "version_minor": 0
      },
      "text/plain": [
       "Export report to file:   0%|          | 0/1 [00:00<?, ?it/s]"
      ]
     },
     "metadata": {},
     "output_type": "display_data"
    }
   ],
   "source": [
    "if not os.path.exists('reports'): os.mkdir('reports')\n",
    "profile.to_file(\"reports/features-profiling.html\")"
   ]
  },
  {
   "cell_type": "code",
   "execution_count": null,
   "id": "dying-scroll",
   "metadata": {},
   "outputs": [],
   "source": []
  }
 ],
 "metadata": {
  "kernelspec": {
   "display_name": "Python 3",
   "language": "python",
   "name": "python3"
  },
  "language_info": {
   "codemirror_mode": {
    "name": "ipython",
    "version": 3
   },
   "file_extension": ".py",
   "mimetype": "text/x-python",
   "name": "python",
   "nbconvert_exporter": "python",
   "pygments_lexer": "ipython3",
   "version": "3.8.6"
  }
 },
 "nbformat": 4,
 "nbformat_minor": 5
}
