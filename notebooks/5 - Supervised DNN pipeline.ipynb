{
 "cells": [
  {
   "cell_type": "markdown",
   "id": "concrete-innocent",
   "metadata": {},
   "source": [
    "# Supervised DNN pipeline with Tensorflow\n",
    "\n",
    "This notebook trains a supervised model via Tensorflow\n",
    "\n",
    "Specifically,\n",
    "* Use `tensorflow.keras` to set up and train the model\n",
    "* A single-hidden-layer cross-sectional model is trained (multi-classification)\n",
    "\n",
    "We finally test the model on the test data set, as defined by the authors.\n",
    "\n",
    "Note: some improvements could be made with respect to the training process."
   ]
  },
  {
   "cell_type": "code",
   "execution_count": 1,
   "id": "prime-protection",
   "metadata": {},
   "outputs": [
    {
     "name": "stdout",
     "output_type": "stream",
     "text": [
      "/project\n"
     ]
    }
   ],
   "source": [
    "%cd .."
   ]
  },
  {
   "cell_type": "code",
   "execution_count": 2,
   "id": "applicable-foster",
   "metadata": {},
   "outputs": [],
   "source": [
    "from src.data import *"
   ]
  },
  {
   "cell_type": "code",
   "execution_count": 3,
   "id": "elegant-leader",
   "metadata": {},
   "outputs": [],
   "source": [
    "from tensorflow import keras"
   ]
  },
  {
   "cell_type": "markdown",
   "id": "rubber-pennsylvania",
   "metadata": {},
   "source": [
    "## Prepare the data\n",
    "\n",
    "Load the feature data and then prepare the train / test objects.\n",
    "\n",
    "Note that `keras` is different from `sklearn` in that we need to format the integer activity labels as one-hot-encoded vectors."
   ]
  },
  {
   "cell_type": "code",
   "execution_count": 4,
   "id": "nutritional-liberty",
   "metadata": {},
   "outputs": [
    {
     "data": {
      "text/plain": [
       "(7352, 564)"
      ]
     },
     "execution_count": 4,
     "metadata": {},
     "output_type": "execute_result"
    }
   ],
   "source": [
    "activities = load_activity_names(); activities\n",
    "features_df = load_feature_data() \\\n",
    "    .sort_values(['subject_id', 'time_window_s']) \\\n",
    "    .reset_index(drop=True)\n",
    "features_df.shape"
   ]
  },
  {
   "cell_type": "markdown",
   "id": "employed-outdoors",
   "metadata": {},
   "source": [
    "We only input the data features into the model, so we need to skip subject, time, and activity labels."
   ]
  },
  {
   "cell_type": "code",
   "execution_count": 5,
   "id": "technological-australian",
   "metadata": {},
   "outputs": [],
   "source": [
    "X_train = features_df.drop(['subject_id', 'time_window_s', 'activity_id'], axis=1)\n",
    "y_train = keras.utils.to_categorical(features_df.activity_id - 1)"
   ]
  },
  {
   "cell_type": "code",
   "execution_count": 6,
   "id": "finished-greene",
   "metadata": {},
   "outputs": [
    {
     "data": {
      "text/plain": [
       "(2947, 564)"
      ]
     },
     "execution_count": 6,
     "metadata": {},
     "output_type": "execute_result"
    }
   ],
   "source": [
    "features_test_df = load_feature_data('test') \\\n",
    "    .sort_values(['subject_id', 'time_window_s']) \\\n",
    "    .reset_index(drop=True)\n",
    "X_test = features_test_df.drop(['subject_id', 'time_window_s', 'activity_id'], axis=1)\n",
    "y_test = keras.utils.to_categorical(features_test_df.activity_id - 1)\n",
    "features_test_df.shape"
   ]
  },
  {
   "cell_type": "markdown",
   "id": "electric-cloud",
   "metadata": {},
   "source": [
    "## Model training"
   ]
  },
  {
   "cell_type": "markdown",
   "id": "tired-registration",
   "metadata": {},
   "source": [
    "### Prepare the model\n",
    "\n",
    "We create a single hidden layer DNN with 100 nodes. Using the `Sequential` API, we create the model object and `.add` layers to it. The last layer must be congruent with the model task: a 6-category prediction."
   ]
  },
  {
   "cell_type": "code",
   "execution_count": 7,
   "id": "worthy-perfume",
   "metadata": {},
   "outputs": [],
   "source": [
    "model = keras.models.Sequential()\n",
    "model.add(keras.layers.Dense(100))\n",
    "model.add(keras.layers.Dense(6, activation='softmax'))"
   ]
  },
  {
   "cell_type": "markdown",
   "id": "gothic-charlotte",
   "metadata": {},
   "source": [
    "We need to add a loss function, optimizer, and metrics for training.\n",
    "* The `categorical_crossentropy` is a good choice for multi-category classification\n",
    "* The `Adam` optimizer generally performs well\n",
    "* `accuracy` is a common metric to choose; it must get the label exactly right"
   ]
  },
  {
   "cell_type": "code",
   "execution_count": 8,
   "id": "dress-lemon",
   "metadata": {},
   "outputs": [],
   "source": [
    "model.compile(loss=keras.losses.categorical_crossentropy,\n",
    "              optimizer=keras.optimizers.Adam(),\n",
    "              metrics=['accuracy'])"
   ]
  },
  {
   "cell_type": "markdown",
   "id": "heard-stake",
   "metadata": {},
   "source": [
    "### Train\n",
    "\n",
    "In this example, we fit the model with a single validation data set. This is actually common in deep learning problems, since the datasets are so large that cross-validation is often not necessary.\n",
    "\n",
    "Some notes:\n",
    "* We choose the batch size as 128 since it's on par with the way the data is recorded\n",
    "* Using 3 epochs is common, but could be increased"
   ]
  },
  {
   "cell_type": "code",
   "execution_count": 9,
   "id": "absent-formula",
   "metadata": {},
   "outputs": [
    {
     "name": "stdout",
     "output_type": "stream",
     "text": [
      "Epoch 1/3\n",
      "58/58 [==============================] - 1s 9ms/step - loss: 1.0182 - accuracy: 0.6151 - val_loss: 0.3468 - val_accuracy: 0.8989\n",
      "Epoch 2/3\n",
      "58/58 [==============================] - 0s 2ms/step - loss: 0.2786 - accuracy: 0.9111 - val_loss: 0.2611 - val_accuracy: 0.9223\n",
      "Epoch 3/3\n",
      "58/58 [==============================] - 0s 2ms/step - loss: 0.1858 - accuracy: 0.9405 - val_loss: 0.2182 - val_accuracy: 0.9264\n"
     ]
    },
    {
     "data": {
      "text/plain": [
       "<tensorflow.python.keras.callbacks.History at 0x7f0dd40e3ca0>"
      ]
     },
     "execution_count": 9,
     "metadata": {},
     "output_type": "execute_result"
    }
   ],
   "source": [
    "model.fit(X_train, y_train,\n",
    "          batch_size=128,\n",
    "          epochs=3,\n",
    "          validation_data=(X_test, y_test))"
   ]
  },
  {
   "cell_type": "markdown",
   "id": "falling-slide",
   "metadata": {},
   "source": [
    "We can summarize the model for our understanding. Note there is a large number of parameters to fit. We can see this, noting that a 561-length vector's elements are being multiplied 100 times each in order to be summed into the 100 nodes. There is also the 100-element bias vector. That adds up to 56200. Similarly, 100-hidden-nodes are multiplied 6 times each to arrive at the 6 output nodes, which each have a bias parameter. That adds up to 606."
   ]
  },
  {
   "cell_type": "code",
   "execution_count": 10,
   "id": "divine-barbados",
   "metadata": {},
   "outputs": [
    {
     "name": "stdout",
     "output_type": "stream",
     "text": [
      "Model: \"sequential\"\n",
      "_________________________________________________________________\n",
      "Layer (type)                 Output Shape              Param #   \n",
      "=================================================================\n",
      "dense (Dense)                (None, 100)               56200     \n",
      "_________________________________________________________________\n",
      "dense_1 (Dense)              (None, 6)                 606       \n",
      "=================================================================\n",
      "Total params: 56,806\n",
      "Trainable params: 56,806\n",
      "Non-trainable params: 0\n",
      "_________________________________________________________________\n"
     ]
    }
   ],
   "source": [
    "model.summary()"
   ]
  },
  {
   "cell_type": "markdown",
   "id": "flying-planet",
   "metadata": {},
   "source": [
    "The full specification of the model can be obtained as JSON."
   ]
  },
  {
   "cell_type": "code",
   "execution_count": 11,
   "id": "pretty-change",
   "metadata": {},
   "outputs": [
    {
     "data": {
      "text/plain": [
       "{'name': 'sequential',\n",
       " 'layers': [{'class_name': 'InputLayer',\n",
       "   'config': {'batch_input_shape': (None, 561),\n",
       "    'dtype': 'float64',\n",
       "    'sparse': False,\n",
       "    'ragged': False,\n",
       "    'name': 'dense_input'}},\n",
       "  {'class_name': 'Dense',\n",
       "   'config': {'name': 'dense',\n",
       "    'trainable': True,\n",
       "    'dtype': 'float32',\n",
       "    'units': 100,\n",
       "    'activation': 'linear',\n",
       "    'use_bias': True,\n",
       "    'kernel_initializer': {'class_name': 'GlorotUniform',\n",
       "     'config': {'seed': None}},\n",
       "    'bias_initializer': {'class_name': 'Zeros', 'config': {}},\n",
       "    'kernel_regularizer': None,\n",
       "    'bias_regularizer': None,\n",
       "    'activity_regularizer': None,\n",
       "    'kernel_constraint': None,\n",
       "    'bias_constraint': None}},\n",
       "  {'class_name': 'Dense',\n",
       "   'config': {'name': 'dense_1',\n",
       "    'trainable': True,\n",
       "    'dtype': 'float32',\n",
       "    'units': 6,\n",
       "    'activation': 'softmax',\n",
       "    'use_bias': True,\n",
       "    'kernel_initializer': {'class_name': 'GlorotUniform',\n",
       "     'config': {'seed': None}},\n",
       "    'bias_initializer': {'class_name': 'Zeros', 'config': {}},\n",
       "    'kernel_regularizer': None,\n",
       "    'bias_regularizer': None,\n",
       "    'activity_regularizer': None,\n",
       "    'kernel_constraint': None,\n",
       "    'bias_constraint': None}}]}"
      ]
     },
     "execution_count": 11,
     "metadata": {},
     "output_type": "execute_result"
    }
   ],
   "source": [
    "model.get_config()"
   ]
  },
  {
   "cell_type": "markdown",
   "id": "dietary-chocolate",
   "metadata": {},
   "source": [
    "The `keras` fitting process already prints out the accuracy, but for illustration we can compute it like we did in the other notebooks, only we need to translate the one-hot-encoded vector back to the integer label."
   ]
  },
  {
   "cell_type": "code",
   "execution_count": 12,
   "id": "happy-booth",
   "metadata": {},
   "outputs": [],
   "source": [
    "y_train_hat = model.predict(X_train)\n",
    "y_train_hat = np.array([y.argmax() + 1 for y in y_train_hat])"
   ]
  },
  {
   "cell_type": "code",
   "execution_count": 13,
   "id": "opposite-dodge",
   "metadata": {},
   "outputs": [],
   "source": [
    "from sklearn.metrics import accuracy_score, classification_report"
   ]
  },
  {
   "cell_type": "code",
   "execution_count": 14,
   "id": "other-matter",
   "metadata": {},
   "outputs": [
    {
     "data": {
      "text/plain": [
       "0.9552502720348205"
      ]
     },
     "execution_count": 14,
     "metadata": {},
     "output_type": "execute_result"
    }
   ],
   "source": [
    "accuracy_score(y_train_hat, features_df.activity_id.values)"
   ]
  },
  {
   "cell_type": "markdown",
   "id": "emerging-leather",
   "metadata": {},
   "source": [
    "### Evaluate on the test data\n",
    "\n",
    "We evaluate the model on the test data that was defined by the authors."
   ]
  },
  {
   "cell_type": "code",
   "execution_count": 15,
   "id": "affecting-cream",
   "metadata": {},
   "outputs": [],
   "source": [
    "y_test_hat = model.predict(X_test)\n",
    "y_test_hat = np.array([y.argmax() + 1 for y in y_test_hat])"
   ]
  },
  {
   "cell_type": "code",
   "execution_count": 16,
   "id": "cross-parent",
   "metadata": {},
   "outputs": [
    {
     "data": {
      "text/plain": [
       "0.9263657957244655"
      ]
     },
     "execution_count": 16,
     "metadata": {},
     "output_type": "execute_result"
    }
   ],
   "source": [
    "accuracy_score(y_test_hat, features_test_df.activity_id.values)"
   ]
  },
  {
   "cell_type": "code",
   "execution_count": 17,
   "id": "former-technical",
   "metadata": {},
   "outputs": [
    {
     "name": "stdout",
     "output_type": "stream",
     "text": [
      "              precision    recall  f1-score   support\n",
      "\n",
      "           1       0.98      0.88      0.93       554\n",
      "           2       0.87      0.95      0.91       431\n",
      "           3       0.91      0.95      0.93       404\n",
      "           4       0.84      0.93      0.89       444\n",
      "           5       0.94      0.87      0.90       579\n",
      "           6       0.99      1.00      1.00       535\n",
      "\n",
      "    accuracy                           0.93      2947\n",
      "   macro avg       0.92      0.93      0.93      2947\n",
      "weighted avg       0.93      0.93      0.93      2947\n",
      "\n"
     ]
    }
   ],
   "source": [
    "print(classification_report(y_test_hat, features_test_df.activity_id.values))"
   ]
  },
  {
   "cell_type": "markdown",
   "id": "offshore-leadership",
   "metadata": {},
   "source": [
    "When we cross-tabulate the actual labels with the classified ones, we see a pretty diagonal matrix. \n",
    "\n",
    "Here we will want to validate if the errors made are acceptable. For example, errors for walking downstairs are either walking or walking upstairs. It may be important to continue tuning parameters such that this activity is never (or less commonly) misclassified as walking upstairs."
   ]
  },
  {
   "cell_type": "code",
   "execution_count": 18,
   "id": "divided-possession",
   "metadata": {},
   "outputs": [
    {
     "data": {
      "text/html": [
       "<div>\n",
       "<style scoped>\n",
       "    .dataframe tbody tr th:only-of-type {\n",
       "        vertical-align: middle;\n",
       "    }\n",
       "\n",
       "    .dataframe tbody tr th {\n",
       "        vertical-align: top;\n",
       "    }\n",
       "\n",
       "    .dataframe thead th {\n",
       "        text-align: right;\n",
       "    }\n",
       "</style>\n",
       "<table border=\"1\" class=\"dataframe\">\n",
       "  <thead>\n",
       "    <tr style=\"text-align: right;\">\n",
       "      <th>Classified</th>\n",
       "      <th>1</th>\n",
       "      <th>2</th>\n",
       "      <th>3</th>\n",
       "      <th>4</th>\n",
       "      <th>5</th>\n",
       "      <th>6</th>\n",
       "    </tr>\n",
       "    <tr>\n",
       "      <th>True</th>\n",
       "      <th></th>\n",
       "      <th></th>\n",
       "      <th></th>\n",
       "      <th></th>\n",
       "      <th></th>\n",
       "      <th></th>\n",
       "    </tr>\n",
       "  </thead>\n",
       "  <tbody>\n",
       "    <tr>\n",
       "      <th>1</th>\n",
       "      <td>488</td>\n",
       "      <td>1</td>\n",
       "      <td>7</td>\n",
       "      <td>0</td>\n",
       "      <td>0</td>\n",
       "      <td>0</td>\n",
       "    </tr>\n",
       "    <tr>\n",
       "      <th>2</th>\n",
       "      <td>45</td>\n",
       "      <td>410</td>\n",
       "      <td>15</td>\n",
       "      <td>0</td>\n",
       "      <td>1</td>\n",
       "      <td>0</td>\n",
       "    </tr>\n",
       "    <tr>\n",
       "      <th>3</th>\n",
       "      <td>21</td>\n",
       "      <td>17</td>\n",
       "      <td>382</td>\n",
       "      <td>0</td>\n",
       "      <td>0</td>\n",
       "      <td>0</td>\n",
       "    </tr>\n",
       "    <tr>\n",
       "      <th>4</th>\n",
       "      <td>0</td>\n",
       "      <td>3</td>\n",
       "      <td>0</td>\n",
       "      <td>414</td>\n",
       "      <td>73</td>\n",
       "      <td>1</td>\n",
       "    </tr>\n",
       "    <tr>\n",
       "      <th>5</th>\n",
       "      <td>0</td>\n",
       "      <td>0</td>\n",
       "      <td>0</td>\n",
       "      <td>30</td>\n",
       "      <td>502</td>\n",
       "      <td>0</td>\n",
       "    </tr>\n",
       "    <tr>\n",
       "      <th>6</th>\n",
       "      <td>0</td>\n",
       "      <td>0</td>\n",
       "      <td>0</td>\n",
       "      <td>0</td>\n",
       "      <td>3</td>\n",
       "      <td>534</td>\n",
       "    </tr>\n",
       "  </tbody>\n",
       "</table>\n",
       "</div>"
      ],
      "text/plain": [
       "Classified    1    2    3    4    5    6\n",
       "True                                    \n",
       "1           488    1    7    0    0    0\n",
       "2            45  410   15    0    1    0\n",
       "3            21   17  382    0    0    0\n",
       "4             0    3    0  414   73    1\n",
       "5             0    0    0   30  502    0\n",
       "6             0    0    0    0    3  534"
      ]
     },
     "execution_count": 18,
     "metadata": {},
     "output_type": "execute_result"
    }
   ],
   "source": [
    "pd.crosstab(features_test_df.activity_id.values,\n",
    "            y_test_hat,\n",
    "            rownames=['True'],\n",
    "            colnames=['Classified'])"
   ]
  },
  {
   "cell_type": "code",
   "execution_count": null,
   "id": "working-pepper",
   "metadata": {},
   "outputs": [],
   "source": []
  }
 ],
 "metadata": {
  "kernelspec": {
   "display_name": "Python 3",
   "language": "python",
   "name": "python3"
  },
  "language_info": {
   "codemirror_mode": {
    "name": "ipython",
    "version": 3
   },
   "file_extension": ".py",
   "mimetype": "text/x-python",
   "name": "python",
   "nbconvert_exporter": "python",
   "pygments_lexer": "ipython3",
   "version": "3.8.6"
  }
 },
 "nbformat": 4,
 "nbformat_minor": 5
}
