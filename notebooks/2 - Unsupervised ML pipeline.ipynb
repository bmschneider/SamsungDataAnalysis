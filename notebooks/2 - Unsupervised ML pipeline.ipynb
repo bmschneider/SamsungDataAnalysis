{
 "cells": [
  {
   "cell_type": "markdown",
   "id": "fifteen-tongue",
   "metadata": {},
   "source": [
    "# Unsupervised learning\n",
    "\n",
    "This notebook contains some unsupervised approaches."
   ]
  },
  {
   "cell_type": "code",
   "execution_count": 1,
   "id": "extraordinary-burden",
   "metadata": {},
   "outputs": [
    {
     "name": "stdout",
     "output_type": "stream",
     "text": [
      "/project\n"
     ]
    }
   ],
   "source": [
    "%cd .."
   ]
  },
  {
   "cell_type": "code",
   "execution_count": 2,
   "id": "vertical-anthropology",
   "metadata": {},
   "outputs": [],
   "source": [
    "import os\n",
    "from pathlib import Path\n",
    "from pandas_profiling import ProfileReport\n",
    "from src.data import *"
   ]
  },
  {
   "cell_type": "code",
   "execution_count": 4,
   "id": "dried-kennedy",
   "metadata": {},
   "outputs": [
    {
     "data": {
      "text/plain": [
       "(7352, 564)"
      ]
     },
     "execution_count": 4,
     "metadata": {},
     "output_type": "execute_result"
    }
   ],
   "source": [
    "activities = load_activity_names(); activities\n",
    "features_df = load_feature_data() \\\n",
    "    .merge(activities) \\\n",
    "    .drop('activity_id', axis=1) \\\n",
    "    .sort_values(['subject_id', 'time_exp']) \\\n",
    "    .reset_index(drop=True)\n",
    "features_df.shape"
   ]
  },
  {
   "cell_type": "markdown",
   "id": "relative-scholarship",
   "metadata": {},
   "source": [
    "## Clustering time points\n",
    "\n",
    "Here we ask if the data naturally clusters into six activities, and we compare the labels found with the actual ones."
   ]
  },
  {
   "cell_type": "code",
   "execution_count": 5,
   "id": "closing-subsection",
   "metadata": {},
   "outputs": [],
   "source": [
    "from sklearn.cluster import KMeans\n",
    "kmod = KMeans(n_clusters=6)\n",
    "kmod_fit = kmod.fit(features_df.drop(['subject_id', 'time_exp', 'activity_name'], axis=1))\n",
    "activity_hat = kmod.predict(features_df.drop(['subject_id', 'time_exp', 'activity_name'], axis=1))"
   ]
  },
  {
   "cell_type": "markdown",
   "id": "legitimate-aquatic",
   "metadata": {},
   "source": [
    "When we cross-tabulate the actual labels with the classified ones, we see a lot of zeros, indicating there is legitimate separation. Indeed, it seems the active and inactive activities are mutually exclusively clustered"
   ]
  },
  {
   "cell_type": "code",
   "execution_count": 6,
   "id": "demonstrated-mixer",
   "metadata": {},
   "outputs": [
    {
     "data": {
      "text/html": [
       "<div>\n",
       "<style scoped>\n",
       "    .dataframe tbody tr th:only-of-type {\n",
       "        vertical-align: middle;\n",
       "    }\n",
       "\n",
       "    .dataframe tbody tr th {\n",
       "        vertical-align: top;\n",
       "    }\n",
       "\n",
       "    .dataframe thead th {\n",
       "        text-align: right;\n",
       "    }\n",
       "</style>\n",
       "<table border=\"1\" class=\"dataframe\">\n",
       "  <thead>\n",
       "    <tr style=\"text-align: right;\">\n",
       "      <th>Classified</th>\n",
       "      <th>0</th>\n",
       "      <th>1</th>\n",
       "      <th>2</th>\n",
       "      <th>3</th>\n",
       "      <th>4</th>\n",
       "      <th>5</th>\n",
       "    </tr>\n",
       "    <tr>\n",
       "      <th>True</th>\n",
       "      <th></th>\n",
       "      <th></th>\n",
       "      <th></th>\n",
       "      <th></th>\n",
       "      <th></th>\n",
       "      <th></th>\n",
       "    </tr>\n",
       "  </thead>\n",
       "  <tbody>\n",
       "    <tr>\n",
       "      <th>LAYING</th>\n",
       "      <td>164</td>\n",
       "      <td>0</td>\n",
       "      <td>0</td>\n",
       "      <td>0</td>\n",
       "      <td>10</td>\n",
       "      <td>1233</td>\n",
       "    </tr>\n",
       "    <tr>\n",
       "      <th>SITTING</th>\n",
       "      <td>304</td>\n",
       "      <td>0</td>\n",
       "      <td>932</td>\n",
       "      <td>0</td>\n",
       "      <td>1</td>\n",
       "      <td>49</td>\n",
       "    </tr>\n",
       "    <tr>\n",
       "      <th>STANDING</th>\n",
       "      <td>412</td>\n",
       "      <td>0</td>\n",
       "      <td>962</td>\n",
       "      <td>0</td>\n",
       "      <td>0</td>\n",
       "      <td>0</td>\n",
       "    </tr>\n",
       "    <tr>\n",
       "      <th>WALKING</th>\n",
       "      <td>0</td>\n",
       "      <td>84</td>\n",
       "      <td>0</td>\n",
       "      <td>555</td>\n",
       "      <td>587</td>\n",
       "      <td>0</td>\n",
       "    </tr>\n",
       "    <tr>\n",
       "      <th>WALKING_DOWNSTAIRS</th>\n",
       "      <td>0</td>\n",
       "      <td>225</td>\n",
       "      <td>0</td>\n",
       "      <td>627</td>\n",
       "      <td>134</td>\n",
       "      <td>0</td>\n",
       "    </tr>\n",
       "    <tr>\n",
       "      <th>WALKING_UPSTAIRS</th>\n",
       "      <td>0</td>\n",
       "      <td>44</td>\n",
       "      <td>0</td>\n",
       "      <td>215</td>\n",
       "      <td>814</td>\n",
       "      <td>0</td>\n",
       "    </tr>\n",
       "  </tbody>\n",
       "</table>\n",
       "</div>"
      ],
      "text/plain": [
       "Classified            0    1    2    3    4     5\n",
       "True                                             \n",
       "LAYING              164    0    0    0   10  1233\n",
       "SITTING             304    0  932    0    1    49\n",
       "STANDING            412    0  962    0    0     0\n",
       "WALKING               0   84    0  555  587     0\n",
       "WALKING_DOWNSTAIRS    0  225    0  627  134     0\n",
       "WALKING_UPSTAIRS      0   44    0  215  814     0"
      ]
     },
     "execution_count": 6,
     "metadata": {},
     "output_type": "execute_result"
    }
   ],
   "source": [
    "pd.crosstab(features_df.activity_name.values,\n",
    "            activity_hat,\n",
    "            rownames=['True'],\n",
    "            colnames=['Classified'])"
   ]
  },
  {
   "cell_type": "code",
   "execution_count": null,
   "id": "shaped-twist",
   "metadata": {},
   "outputs": [],
   "source": []
  },
  {
   "cell_type": "code",
   "execution_count": null,
   "id": "sorted-plate",
   "metadata": {},
   "outputs": [],
   "source": []
  },
  {
   "cell_type": "code",
   "execution_count": null,
   "id": "driving-colleague",
   "metadata": {},
   "outputs": [],
   "source": []
  },
  {
   "cell_type": "code",
   "execution_count": null,
   "id": "crazy-shipping",
   "metadata": {},
   "outputs": [],
   "source": []
  }
 ],
 "metadata": {
  "kernelspec": {
   "display_name": "Python 3",
   "language": "python",
   "name": "python3"
  },
  "language_info": {
   "codemirror_mode": {
    "name": "ipython",
    "version": 3
   },
   "file_extension": ".py",
   "mimetype": "text/x-python",
   "name": "python",
   "nbconvert_exporter": "python",
   "pygments_lexer": "ipython3",
   "version": "3.8.6"
  }
 },
 "nbformat": 4,
 "nbformat_minor": 5
}
