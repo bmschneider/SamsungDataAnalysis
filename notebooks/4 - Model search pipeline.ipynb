{
 "cells": [
  {
   "cell_type": "markdown",
   "id": "august-filing",
   "metadata": {},
   "source": [
    "# Model search pipeline\n",
    "\n",
    "This notebook trains a supervised model via model search techniques, which tune hyperparameters using an algorithm rather than brute force.\n",
    "\n",
    "Specifically,\n",
    "* Use `hyperopt-sklearn` to search the model space\n",
    "* Specify a sub-region of the search space, a particular model type\n",
    "\n",
    "We finally test the model on the test data set, as defined by the authors.\n",
    "\n",
    "Note: some improvements could be made with respect to the training process like what was done in the previous notebook."
   ]
  },
  {
   "cell_type": "code",
   "execution_count": 1,
   "id": "billion-dubai",
   "metadata": {},
   "outputs": [
    {
     "name": "stdout",
     "output_type": "stream",
     "text": [
      "/project\n"
     ]
    }
   ],
   "source": [
    "%cd .."
   ]
  },
  {
   "cell_type": "code",
   "execution_count": 2,
   "id": "integrated-concord",
   "metadata": {},
   "outputs": [],
   "source": [
    "import os\n",
    "from pathlib import Path\n",
    "from src.data import *"
   ]
  },
  {
   "cell_type": "markdown",
   "id": "adverse-western",
   "metadata": {},
   "source": [
    "## Prepare the data\n",
    "\n",
    "Load the feature data and then prepare the train / test objects."
   ]
  },
  {
   "cell_type": "code",
   "execution_count": 3,
   "id": "double-thirty",
   "metadata": {},
   "outputs": [
    {
     "data": {
      "text/plain": [
       "(7352, 564)"
      ]
     },
     "execution_count": 3,
     "metadata": {},
     "output_type": "execute_result"
    }
   ],
   "source": [
    "activities = load_activity_names(); activities\n",
    "features_df = load_feature_data() \\\n",
    "    .merge(activities) \\\n",
    "    .drop('activity_id', axis=1) \\\n",
    "    .sort_values(['subject_id', 'time_exp']) \\\n",
    "    .reset_index(drop=True)\n",
    "features_df.shape"
   ]
  },
  {
   "cell_type": "markdown",
   "id": "dangerous-keeping",
   "metadata": {},
   "source": [
    "We only input the data features into the model, so we need to skip subject, time, and activity labels."
   ]
  },
  {
   "cell_type": "code",
   "execution_count": 4,
   "id": "together-plant",
   "metadata": {},
   "outputs": [],
   "source": [
    "X_train = features_df.drop(['subject_id', 'time_exp', 'activity_name'], axis=1)\n",
    "y_train = features_df.activity_name"
   ]
  },
  {
   "cell_type": "code",
   "execution_count": 5,
   "id": "focal-correction",
   "metadata": {},
   "outputs": [
    {
     "data": {
      "text/plain": [
       "(2947, 564)"
      ]
     },
     "execution_count": 5,
     "metadata": {},
     "output_type": "execute_result"
    }
   ],
   "source": [
    "features_test_df = load_feature_data('test') \\\n",
    "    .merge(activities) \\\n",
    "    .drop('activity_id', axis=1) \\\n",
    "    .sort_values(['subject_id', 'time_exp']) \\\n",
    "    .reset_index(drop=True)\n",
    "features_test_df.shape"
   ]
  },
  {
   "cell_type": "markdown",
   "id": "robust-confirmation",
   "metadata": {},
   "source": [
    "## Model search and evaluation"
   ]
  },
  {
   "cell_type": "markdown",
   "id": "spare-whale",
   "metadata": {},
   "source": [
    "### Model set-up\n",
    "\n",
    "In this example, we fix the model search space for only support vector classifier (SVC) models. Here, the type of model used is not as important as the search process that `hyperopt` is going through."
   ]
  },
  {
   "cell_type": "code",
   "execution_count": 6,
   "id": "designed-yukon",
   "metadata": {},
   "outputs": [
    {
     "name": "stdout",
     "output_type": "stream",
     "text": [
      "WARN: OMP_NUM_THREADS=None =>\n",
      "... If you are using openblas if you are using openblas set OMP_NUM_THREADS=1 or risk subprocess calls hanging indefinitely\n"
     ]
    }
   ],
   "source": [
    "from hpsklearn import HyperoptEstimator, svc"
   ]
  },
  {
   "cell_type": "code",
   "execution_count": 7,
   "id": "continued-wrist",
   "metadata": {},
   "outputs": [],
   "source": [
    "model = HyperoptEstimator(classifier=svc('svc-only'))"
   ]
  },
  {
   "cell_type": "markdown",
   "id": "wicked-month",
   "metadata": {},
   "source": [
    "### Training / searching\n",
    "\n",
    "The `hpsklearn.HyperoptEstimator` works like other scikit-learn estimator objects in that it has a `.fit` and a `.predict` method."
   ]
  },
  {
   "cell_type": "code",
   "execution_count": 8,
   "id": "greek-distributor",
   "metadata": {},
   "outputs": [
    {
     "name": "stdout",
     "output_type": "stream",
     "text": [
      "100%|██████████| 1/1 [00:01<00:00,  1.15s/trial, best loss: 0.03399048266485383]\n",
      "100%|██████████| 2/2 [00:04<00:00,  4.83s/trial, best loss: 0.03399048266485383]\n",
      "100%|██████████| 3/3 [00:02<00:00,  2.13s/trial, best loss: 0.03399048266485383]\n",
      "100%|██████████| 4/4 [00:14<00:00, 14.69s/trial, best loss: 0.03399048266485383]\n",
      "100%|██████████| 5/5 [00:02<00:00,  2.18s/trial, best loss: 0.03399048266485383]\n",
      "100%|██████████| 6/6 [00:08<00:00,  8.23s/trial, best loss: 0.03399048266485383]\n",
      "100%|██████████| 7/7 [00:19<00:00, 19.05s/trial, best loss: 0.03399048266485383]\n",
      "100%|██████████| 8/8 [00:01<00:00,  1.32s/trial, best loss: 0.03399048266485383]\n",
      "100%|██████████| 9/9 [00:14<00:00, 14.88s/trial, best loss: 0.03399048266485383]\n",
      "100%|██████████| 10/10 [00:05<00:00,  5.04s/trial, best loss: 0.03399048266485383]\n"
     ]
    }
   ],
   "source": [
    "model.fit(X_train, y_train)"
   ]
  },
  {
   "cell_type": "code",
   "execution_count": 10,
   "id": "thick-criticism",
   "metadata": {},
   "outputs": [],
   "source": [
    "y_hat = model.predict(X_train)"
   ]
  },
  {
   "cell_type": "code",
   "execution_count": 11,
   "id": "cordless-speaking",
   "metadata": {},
   "outputs": [],
   "source": [
    "from sklearn.metrics import accuracy_score, classification_report"
   ]
  },
  {
   "cell_type": "markdown",
   "id": "packed-volunteer",
   "metadata": {},
   "source": [
    "We happen to get 100% accuracy on the training data set."
   ]
  },
  {
   "cell_type": "code",
   "execution_count": 12,
   "id": "incorporate-poison",
   "metadata": {},
   "outputs": [
    {
     "data": {
      "text/plain": [
       "1.0"
      ]
     },
     "execution_count": 12,
     "metadata": {},
     "output_type": "execute_result"
    }
   ],
   "source": [
    "accuracy_score(y_hat, y_train)"
   ]
  },
  {
   "cell_type": "markdown",
   "id": "constitutional-advantage",
   "metadata": {},
   "source": [
    "### Evaluate on the test data\n",
    "\n",
    "We evaluate the model on the test data that was defined by the authors."
   ]
  },
  {
   "cell_type": "code",
   "execution_count": 14,
   "id": "several-exploration",
   "metadata": {},
   "outputs": [],
   "source": [
    "y_test_hat = model \\\n",
    "    .predict(features_test_df.drop(['subject_id', 'time_exp', 'activity_name'], axis=1))"
   ]
  },
  {
   "cell_type": "code",
   "execution_count": 15,
   "id": "technical-commodity",
   "metadata": {},
   "outputs": [
    {
     "name": "stdout",
     "output_type": "stream",
     "text": [
      "                    precision    recall  f1-score   support\n",
      "\n",
      "            LAYING       1.00      1.00      1.00       537\n",
      "           SITTING       0.89      0.94      0.92       463\n",
      "          STANDING       0.95      0.91      0.93       558\n",
      "           WALKING       0.99      0.96      0.97       514\n",
      "WALKING_DOWNSTAIRS       0.98      0.99      0.98       415\n",
      "  WALKING_UPSTAIRS       0.96      0.98      0.97       460\n",
      "\n",
      "          accuracy                           0.96      2947\n",
      "         macro avg       0.96      0.96      0.96      2947\n",
      "      weighted avg       0.96      0.96      0.96      2947\n",
      "\n"
     ]
    }
   ],
   "source": [
    "print(classification_report(y_test_hat, features_test_df.activity_name))"
   ]
  },
  {
   "cell_type": "markdown",
   "id": "generic-plaintiff",
   "metadata": {},
   "source": [
    "When we cross-tabulate the actual labels with the classified ones, we see a pretty diagonal matrix. Indeed, laying has been 100% correct.\n",
    "\n",
    "Here we will want to validate if the errors made are acceptable. For example, errors for walking downstairs are either walking or walking upstairs. It may be important to continue tuning parameters such that this activity is never (or less commonly) misclassified as walking upstairs."
   ]
  },
  {
   "cell_type": "code",
   "execution_count": 16,
   "id": "front-walnut",
   "metadata": {},
   "outputs": [
    {
     "data": {
      "text/html": [
       "<div>\n",
       "<style scoped>\n",
       "    .dataframe tbody tr th:only-of-type {\n",
       "        vertical-align: middle;\n",
       "    }\n",
       "\n",
       "    .dataframe tbody tr th {\n",
       "        vertical-align: top;\n",
       "    }\n",
       "\n",
       "    .dataframe thead th {\n",
       "        text-align: right;\n",
       "    }\n",
       "</style>\n",
       "<table border=\"1\" class=\"dataframe\">\n",
       "  <thead>\n",
       "    <tr style=\"text-align: right;\">\n",
       "      <th>Classified</th>\n",
       "      <th>LAYING</th>\n",
       "      <th>SITTING</th>\n",
       "      <th>STANDING</th>\n",
       "      <th>WALKING</th>\n",
       "      <th>WALKING_DOWNSTAIRS</th>\n",
       "      <th>WALKING_UPSTAIRS</th>\n",
       "    </tr>\n",
       "    <tr>\n",
       "      <th>True</th>\n",
       "      <th></th>\n",
       "      <th></th>\n",
       "      <th></th>\n",
       "      <th></th>\n",
       "      <th></th>\n",
       "      <th></th>\n",
       "    </tr>\n",
       "  </thead>\n",
       "  <tbody>\n",
       "    <tr>\n",
       "      <th>LAYING</th>\n",
       "      <td>537</td>\n",
       "      <td>0</td>\n",
       "      <td>0</td>\n",
       "      <td>0</td>\n",
       "      <td>0</td>\n",
       "      <td>0</td>\n",
       "    </tr>\n",
       "    <tr>\n",
       "      <th>SITTING</th>\n",
       "      <td>0</td>\n",
       "      <td>437</td>\n",
       "      <td>52</td>\n",
       "      <td>0</td>\n",
       "      <td>0</td>\n",
       "      <td>2</td>\n",
       "    </tr>\n",
       "    <tr>\n",
       "      <th>STANDING</th>\n",
       "      <td>0</td>\n",
       "      <td>26</td>\n",
       "      <td>506</td>\n",
       "      <td>0</td>\n",
       "      <td>0</td>\n",
       "      <td>0</td>\n",
       "    </tr>\n",
       "    <tr>\n",
       "      <th>WALKING</th>\n",
       "      <td>0</td>\n",
       "      <td>0</td>\n",
       "      <td>0</td>\n",
       "      <td>492</td>\n",
       "      <td>3</td>\n",
       "      <td>1</td>\n",
       "    </tr>\n",
       "    <tr>\n",
       "      <th>WALKING_DOWNSTAIRS</th>\n",
       "      <td>0</td>\n",
       "      <td>0</td>\n",
       "      <td>0</td>\n",
       "      <td>4</td>\n",
       "      <td>410</td>\n",
       "      <td>6</td>\n",
       "    </tr>\n",
       "    <tr>\n",
       "      <th>WALKING_UPSTAIRS</th>\n",
       "      <td>0</td>\n",
       "      <td>0</td>\n",
       "      <td>0</td>\n",
       "      <td>18</td>\n",
       "      <td>2</td>\n",
       "      <td>451</td>\n",
       "    </tr>\n",
       "  </tbody>\n",
       "</table>\n",
       "</div>"
      ],
      "text/plain": [
       "Classified          LAYING  SITTING  STANDING  WALKING  WALKING_DOWNSTAIRS  \\\n",
       "True                                                                         \n",
       "LAYING                 537        0         0        0                   0   \n",
       "SITTING                  0      437        52        0                   0   \n",
       "STANDING                 0       26       506        0                   0   \n",
       "WALKING                  0        0         0      492                   3   \n",
       "WALKING_DOWNSTAIRS       0        0         0        4                 410   \n",
       "WALKING_UPSTAIRS         0        0         0       18                   2   \n",
       "\n",
       "Classified          WALKING_UPSTAIRS  \n",
       "True                                  \n",
       "LAYING                             0  \n",
       "SITTING                            2  \n",
       "STANDING                           0  \n",
       "WALKING                            1  \n",
       "WALKING_DOWNSTAIRS                 6  \n",
       "WALKING_UPSTAIRS                 451  "
      ]
     },
     "execution_count": 16,
     "metadata": {},
     "output_type": "execute_result"
    }
   ],
   "source": [
    "pd.crosstab(features_test_df.activity_name.values,\n",
    "            y_test_hat,\n",
    "            rownames=['True'],\n",
    "            colnames=['Classified'])"
   ]
  },
  {
   "cell_type": "code",
   "execution_count": null,
   "id": "international-party",
   "metadata": {},
   "outputs": [],
   "source": []
  }
 ],
 "metadata": {
  "kernelspec": {
   "display_name": "Python 3",
   "language": "python",
   "name": "python3"
  },
  "language_info": {
   "codemirror_mode": {
    "name": "ipython",
    "version": 3
   },
   "file_extension": ".py",
   "mimetype": "text/x-python",
   "name": "python",
   "nbconvert_exporter": "python",
   "pygments_lexer": "ipython3",
   "version": "3.8.6"
  }
 },
 "nbformat": 4,
 "nbformat_minor": 5
}
