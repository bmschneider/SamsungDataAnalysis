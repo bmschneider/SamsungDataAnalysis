{
 "cells": [
  {
   "cell_type": "markdown",
   "id": "constitutional-tongue",
   "metadata": {},
   "source": [
    "# Model search pipeline\n",
    "\n",
    "This notebook trains a supervised model via model search techniques, which tune hyperparameters using an algorithm rather than brute force.\n",
    "\n",
    "Specifically,\n",
    "* Use `hyperopt-sklearn` to search the model space\n",
    "* Specify a sub-region of the search space, a particular model type\n",
    "\n",
    "We finally test the model on the test data set, as defined by the authors.\n",
    "\n",
    "Note: some improvements could be made with respect to the training process like what was done in the previous notebook."
   ]
  },
  {
   "cell_type": "code",
   "execution_count": 1,
   "id": "increased-recording",
   "metadata": {},
   "outputs": [
    {
     "name": "stdout",
     "output_type": "stream",
     "text": [
      "/project\n"
     ]
    }
   ],
   "source": [
    "%cd .."
   ]
  },
  {
   "cell_type": "code",
   "execution_count": 2,
   "id": "velvet-webster",
   "metadata": {},
   "outputs": [],
   "source": [
    "from src.data import *"
   ]
  },
  {
   "cell_type": "markdown",
   "id": "offensive-constitutional",
   "metadata": {},
   "source": [
    "## Prepare the data\n",
    "\n",
    "Load the feature data and then prepare the train / test objects."
   ]
  },
  {
   "cell_type": "code",
   "execution_count": 3,
   "id": "victorian-spine",
   "metadata": {},
   "outputs": [
    {
     "data": {
      "text/plain": [
       "(7352, 564)"
      ]
     },
     "execution_count": 3,
     "metadata": {},
     "output_type": "execute_result"
    }
   ],
   "source": [
    "activities = load_activity_names(); activities\n",
    "features_df = load_feature_data() \\\n",
    "    .merge(activities) \\\n",
    "    .drop('activity_id', axis=1) \\\n",
    "    .sort_values(['subject_id', 'time_window_s']) \\\n",
    "    .reset_index(drop=True)\n",
    "features_df.shape"
   ]
  },
  {
   "cell_type": "markdown",
   "id": "danish-standing",
   "metadata": {},
   "source": [
    "We only input the data features into the model, so we need to skip subject, time, and activity labels."
   ]
  },
  {
   "cell_type": "code",
   "execution_count": 4,
   "id": "received-praise",
   "metadata": {},
   "outputs": [],
   "source": [
    "X_train = features_df.drop(['subject_id', 'time_window_s', 'activity_name'], axis=1)\n",
    "y_train = features_df.activity_name"
   ]
  },
  {
   "cell_type": "code",
   "execution_count": 5,
   "id": "crucial-feelings",
   "metadata": {},
   "outputs": [
    {
     "data": {
      "text/plain": [
       "(2947, 564)"
      ]
     },
     "execution_count": 5,
     "metadata": {},
     "output_type": "execute_result"
    }
   ],
   "source": [
    "features_test_df = load_feature_data('test') \\\n",
    "    .merge(activities) \\\n",
    "    .drop('activity_id', axis=1) \\\n",
    "    .sort_values(['subject_id', 'time_window_s']) \\\n",
    "    .reset_index(drop=True)\n",
    "features_test_df.shape"
   ]
  },
  {
   "cell_type": "markdown",
   "id": "federal-adult",
   "metadata": {},
   "source": [
    "## Model search and evaluation"
   ]
  },
  {
   "cell_type": "markdown",
   "id": "standing-salon",
   "metadata": {},
   "source": [
    "### Model set-up\n",
    "\n",
    "In this example, we fix the model search space for only support vector classifier (SVC) models. Here, the type of model used is not as important as the search process that `hyperopt` is going through."
   ]
  },
  {
   "cell_type": "code",
   "execution_count": 6,
   "id": "accepting-roberts",
   "metadata": {},
   "outputs": [
    {
     "name": "stdout",
     "output_type": "stream",
     "text": [
      "WARN: OMP_NUM_THREADS=None =>\n",
      "... If you are using openblas if you are using openblas set OMP_NUM_THREADS=1 or risk subprocess calls hanging indefinitely\n"
     ]
    }
   ],
   "source": [
    "from hpsklearn import HyperoptEstimator, svc"
   ]
  },
  {
   "cell_type": "code",
   "execution_count": 7,
   "id": "satellite-uncertainty",
   "metadata": {},
   "outputs": [],
   "source": [
    "model = HyperoptEstimator(classifier=svc('svc-only'))"
   ]
  },
  {
   "cell_type": "markdown",
   "id": "forty-array",
   "metadata": {},
   "source": [
    "### Training / searching\n",
    "\n",
    "The `hpsklearn.HyperoptEstimator` works like other scikit-learn estimator objects in that it has a `.fit` and a `.predict` method."
   ]
  },
  {
   "cell_type": "code",
   "execution_count": 8,
   "id": "cellular-anderson",
   "metadata": {},
   "outputs": [
    {
     "name": "stdout",
     "output_type": "stream",
     "text": [
      "100%|██████████| 1/1 [00:01<00:00,  1.89s/trial, best loss: 0.06866077498300471]\n",
      "100%|██████████| 2/2 [00:01<00:00,  1.06s/trial, best loss: 0.023113528212100665]\n",
      "100%|██████████| 3/3 [00:03<00:00,  3.15s/trial, best loss: 0.023113528212100665]\n",
      "100%|██████████| 4/4 [00:01<00:00,  1.44s/trial, best loss: 0.023113528212100665]\n",
      "100%|██████████| 5/5 [00:01<00:00,  1.65s/trial, best loss: 0.023113528212100665]\n",
      "100%|██████████| 6/6 [00:01<00:00,  1.66s/trial, best loss: 0.023113528212100665]\n",
      "100%|██████████| 7/7 [00:15<00:00, 15.19s/trial, best loss: 0.023113528212100665]\n",
      "100%|██████████| 8/8 [00:15<00:00, 15.23s/trial, best loss: 0.023113528212100665]\n",
      "100%|██████████| 9/9 [00:07<00:00,  7.52s/trial, best loss: 0.023113528212100665]\n",
      "100%|██████████| 10/10 [00:01<00:00,  1.16s/trial, best loss: 0.023113528212100665]\n"
     ]
    }
   ],
   "source": [
    "model.fit(X_train, y_train)"
   ]
  },
  {
   "cell_type": "code",
   "execution_count": 9,
   "id": "universal-stand",
   "metadata": {},
   "outputs": [],
   "source": [
    "y_hat = model.predict(X_train)"
   ]
  },
  {
   "cell_type": "code",
   "execution_count": 10,
   "id": "cloudy-sister",
   "metadata": {},
   "outputs": [],
   "source": [
    "from sklearn.metrics import accuracy_score, classification_report"
   ]
  },
  {
   "cell_type": "markdown",
   "id": "guilty-earth",
   "metadata": {},
   "source": [
    "We happen to get 100% accuracy on the training data set."
   ]
  },
  {
   "cell_type": "code",
   "execution_count": 11,
   "id": "expressed-philadelphia",
   "metadata": {},
   "outputs": [
    {
     "data": {
      "text/plain": [
       "1.0"
      ]
     },
     "execution_count": 11,
     "metadata": {},
     "output_type": "execute_result"
    }
   ],
   "source": [
    "accuracy_score(y_hat, y_train)"
   ]
  },
  {
   "cell_type": "markdown",
   "id": "coastal-flower",
   "metadata": {},
   "source": [
    "### Evaluate on the test data\n",
    "\n",
    "We evaluate the model on the test data that was defined by the authors."
   ]
  },
  {
   "cell_type": "code",
   "execution_count": 12,
   "id": "electronic-bahrain",
   "metadata": {},
   "outputs": [],
   "source": [
    "y_test_hat = model \\\n",
    "    .predict(features_test_df.drop(['subject_id', 'time_window_s', 'activity_name'], axis=1))"
   ]
  },
  {
   "cell_type": "code",
   "execution_count": 13,
   "id": "iraqi-timber",
   "metadata": {},
   "outputs": [
    {
     "name": "stdout",
     "output_type": "stream",
     "text": [
      "                    precision    recall  f1-score   support\n",
      "\n",
      "            LAYING       1.00      1.00      1.00       538\n",
      "           SITTING       0.91      0.98      0.95       457\n",
      "          STANDING       0.98      0.93      0.96       563\n",
      "           WALKING       0.98      0.95      0.96       510\n",
      "WALKING_DOWNSTAIRS       0.95      0.98      0.96       407\n",
      "  WALKING_UPSTAIRS       0.94      0.94      0.94       472\n",
      "\n",
      "          accuracy                           0.96      2947\n",
      "         macro avg       0.96      0.96      0.96      2947\n",
      "      weighted avg       0.96      0.96      0.96      2947\n",
      "\n"
     ]
    }
   ],
   "source": [
    "print(classification_report(y_test_hat, features_test_df.activity_name))"
   ]
  },
  {
   "cell_type": "markdown",
   "id": "explicit-combat",
   "metadata": {},
   "source": [
    "When we cross-tabulate the actual labels with the classified ones, we see a pretty diagonal matrix. Indeed, laying has been 100% correct.\n",
    "\n",
    "Here we will want to validate if the errors made are acceptable. For example, errors for walking downstairs are either walking or walking upstairs. It may be important to continue tuning parameters such that this activity is never (or less commonly) misclassified as walking upstairs."
   ]
  },
  {
   "cell_type": "code",
   "execution_count": 14,
   "id": "extraordinary-assembly",
   "metadata": {},
   "outputs": [
    {
     "data": {
      "text/html": [
       "<div>\n",
       "<style scoped>\n",
       "    .dataframe tbody tr th:only-of-type {\n",
       "        vertical-align: middle;\n",
       "    }\n",
       "\n",
       "    .dataframe tbody tr th {\n",
       "        vertical-align: top;\n",
       "    }\n",
       "\n",
       "    .dataframe thead th {\n",
       "        text-align: right;\n",
       "    }\n",
       "</style>\n",
       "<table border=\"1\" class=\"dataframe\">\n",
       "  <thead>\n",
       "    <tr style=\"text-align: right;\">\n",
       "      <th>Classified</th>\n",
       "      <th>LAYING</th>\n",
       "      <th>SITTING</th>\n",
       "      <th>STANDING</th>\n",
       "      <th>WALKING</th>\n",
       "      <th>WALKING_DOWNSTAIRS</th>\n",
       "      <th>WALKING_UPSTAIRS</th>\n",
       "    </tr>\n",
       "    <tr>\n",
       "      <th>True</th>\n",
       "      <th></th>\n",
       "      <th></th>\n",
       "      <th></th>\n",
       "      <th></th>\n",
       "      <th></th>\n",
       "      <th></th>\n",
       "    </tr>\n",
       "  </thead>\n",
       "  <tbody>\n",
       "    <tr>\n",
       "      <th>LAYING</th>\n",
       "      <td>537</td>\n",
       "      <td>0</td>\n",
       "      <td>0</td>\n",
       "      <td>0</td>\n",
       "      <td>0</td>\n",
       "      <td>0</td>\n",
       "    </tr>\n",
       "    <tr>\n",
       "      <th>SITTING</th>\n",
       "      <td>1</td>\n",
       "      <td>449</td>\n",
       "      <td>39</td>\n",
       "      <td>0</td>\n",
       "      <td>0</td>\n",
       "      <td>2</td>\n",
       "    </tr>\n",
       "    <tr>\n",
       "      <th>STANDING</th>\n",
       "      <td>0</td>\n",
       "      <td>8</td>\n",
       "      <td>524</td>\n",
       "      <td>0</td>\n",
       "      <td>0</td>\n",
       "      <td>0</td>\n",
       "    </tr>\n",
       "    <tr>\n",
       "      <th>WALKING</th>\n",
       "      <td>0</td>\n",
       "      <td>0</td>\n",
       "      <td>0</td>\n",
       "      <td>485</td>\n",
       "      <td>6</td>\n",
       "      <td>5</td>\n",
       "    </tr>\n",
       "    <tr>\n",
       "      <th>WALKING_DOWNSTAIRS</th>\n",
       "      <td>0</td>\n",
       "      <td>0</td>\n",
       "      <td>0</td>\n",
       "      <td>3</td>\n",
       "      <td>397</td>\n",
       "      <td>20</td>\n",
       "    </tr>\n",
       "    <tr>\n",
       "      <th>WALKING_UPSTAIRS</th>\n",
       "      <td>0</td>\n",
       "      <td>0</td>\n",
       "      <td>0</td>\n",
       "      <td>22</td>\n",
       "      <td>4</td>\n",
       "      <td>445</td>\n",
       "    </tr>\n",
       "  </tbody>\n",
       "</table>\n",
       "</div>"
      ],
      "text/plain": [
       "Classified          LAYING  SITTING  STANDING  WALKING  WALKING_DOWNSTAIRS  \\\n",
       "True                                                                         \n",
       "LAYING                 537        0         0        0                   0   \n",
       "SITTING                  1      449        39        0                   0   \n",
       "STANDING                 0        8       524        0                   0   \n",
       "WALKING                  0        0         0      485                   6   \n",
       "WALKING_DOWNSTAIRS       0        0         0        3                 397   \n",
       "WALKING_UPSTAIRS         0        0         0       22                   4   \n",
       "\n",
       "Classified          WALKING_UPSTAIRS  \n",
       "True                                  \n",
       "LAYING                             0  \n",
       "SITTING                            2  \n",
       "STANDING                           0  \n",
       "WALKING                            5  \n",
       "WALKING_DOWNSTAIRS                20  \n",
       "WALKING_UPSTAIRS                 445  "
      ]
     },
     "execution_count": 14,
     "metadata": {},
     "output_type": "execute_result"
    }
   ],
   "source": [
    "pd.crosstab(features_test_df.activity_name.values,\n",
    "            y_test_hat,\n",
    "            rownames=['True'],\n",
    "            colnames=['Classified'])"
   ]
  },
  {
   "cell_type": "code",
   "execution_count": null,
   "id": "typical-example",
   "metadata": {},
   "outputs": [],
   "source": []
  }
 ],
 "metadata": {
  "kernelspec": {
   "display_name": "Python 3",
   "language": "python",
   "name": "python3"
  },
  "language_info": {
   "codemirror_mode": {
    "name": "ipython",
    "version": 3
   },
   "file_extension": ".py",
   "mimetype": "text/x-python",
   "name": "python",
   "nbconvert_exporter": "python",
   "pygments_lexer": "ipython3",
   "version": "3.8.6"
  }
 },
 "nbformat": 4,
 "nbformat_minor": 5
}
