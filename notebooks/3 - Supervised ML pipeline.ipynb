{
 "cells": [
  {
   "cell_type": "markdown",
   "id": "pending-viewer",
   "metadata": {},
   "source": [
    "# Supervised learning pipeline\n",
    "\n",
    "This notebook contains a supervised approach to predict the activities in the data. We consider the problem of predicting the activity for the time stamp of the same record input into the algorithm; a cross-sectional approach. We choose a particular type of model, `LogisticRegression`, in this notebook.\n",
    "\n",
    "We build in a few conveniences into the code here. Specifically,\n",
    "* Using a `Pipeline` to combine data transformation and model\n",
    "* Using a `PCA` model to reduce the dimensionality of the data\n",
    "* Using a grouped cross-validation to train\n",
    "* Using a `GridSearchCV` to tune hyperparameters\n",
    "\n",
    "We finally test the model on the test data set, as defined by the authors."
   ]
  },
  {
   "cell_type": "code",
   "execution_count": 1,
   "id": "amended-wallet",
   "metadata": {},
   "outputs": [
    {
     "name": "stdout",
     "output_type": "stream",
     "text": [
      "/project\n"
     ]
    }
   ],
   "source": [
    "%cd .."
   ]
  },
  {
   "cell_type": "code",
   "execution_count": 2,
   "id": "characteristic-breed",
   "metadata": {},
   "outputs": [],
   "source": [
    "from src.data import *"
   ]
  },
  {
   "cell_type": "markdown",
   "id": "million-jacksonville",
   "metadata": {},
   "source": [
    "## Prepare the data\n",
    "\n",
    "Load the feature data and then prepare the train / test objects. We use the author's definition of training and testing datasets. The training data will also include validation."
   ]
  },
  {
   "cell_type": "code",
   "execution_count": 3,
   "id": "limiting-baghdad",
   "metadata": {},
   "outputs": [
    {
     "data": {
      "text/plain": [
       "(7352, 564)"
      ]
     },
     "execution_count": 3,
     "metadata": {},
     "output_type": "execute_result"
    }
   ],
   "source": [
    "activities = load_activity_names(); activities\n",
    "features_df = load_feature_data() \\\n",
    "    .merge(activities) \\\n",
    "    .drop('activity_id', axis=1) \\\n",
    "    .sort_values(['subject_id', 'time_exp']) \\\n",
    "    .reset_index(drop=True)\n",
    "features_df.shape"
   ]
  },
  {
   "cell_type": "markdown",
   "id": "armed-surface",
   "metadata": {},
   "source": [
    "We only input the data features into the model, so we need to skip subject, time, and activity labels."
   ]
  },
  {
   "cell_type": "code",
   "execution_count": 4,
   "id": "quarterly-transport",
   "metadata": {},
   "outputs": [],
   "source": [
    "X_train = features_df.drop(['subject_id', 'time_exp', 'activity_name'], axis=1)\n",
    "y_train = features_df.activity_name"
   ]
  },
  {
   "cell_type": "code",
   "execution_count": 5,
   "id": "federal-grain",
   "metadata": {},
   "outputs": [
    {
     "data": {
      "text/plain": [
       "(2947, 564)"
      ]
     },
     "execution_count": 5,
     "metadata": {},
     "output_type": "execute_result"
    }
   ],
   "source": [
    "features_test_df = load_feature_data('test') \\\n",
    "    .merge(activities) \\\n",
    "    .drop('activity_id', axis=1) \\\n",
    "    .sort_values(['subject_id', 'time_exp']) \\\n",
    "    .reset_index(drop=True)\n",
    "features_test_df.shape"
   ]
  },
  {
   "cell_type": "markdown",
   "id": "ahead-carter",
   "metadata": {},
   "source": [
    "## Model set-up and fitting / searching\n",
    "\n",
    "Since we have many features, reducing the dimensionality is recommended. Some notes:\n",
    "* We use a `Pipeline` to facilitate fitted parameters of scaling, dimension reducing via `PCA`, and the classifier\n",
    "* We use a grouped cross-validation strategy based on subjects\n",
    "* The `GridSearchCV` will try all combinations of hyperparameters with brute force"
   ]
  },
  {
   "cell_type": "code",
   "execution_count": 15,
   "id": "cognitive-dating",
   "metadata": {},
   "outputs": [],
   "source": [
    "from sklearn.preprocessing import StandardScaler\n",
    "from sklearn.decomposition import PCA\n",
    "from sklearn.linear_model import LogisticRegression\n",
    "from sklearn.pipeline import Pipeline\n",
    "from sklearn.model_selection import GroupKFold, GridSearchCV"
   ]
  },
  {
   "cell_type": "markdown",
   "id": "meaningful-projection",
   "metadata": {},
   "source": [
    "### Model training / searching setup\n",
    "\n",
    "When we cross-validate, we don't really want an individual's data points split across train and validation. This is leakage of the unique behavior of that individual from validation to train data. Therefore, we use a `GroupKFold` object which can `.split` the data by an index, and we can choose the `subject_id` for this. We'll define `subjects_train` for this."
   ]
  },
  {
   "cell_type": "code",
   "execution_count": 7,
   "id": "brilliant-charm",
   "metadata": {},
   "outputs": [],
   "source": [
    "cv_group = GroupKFold(n_splits=5)\n",
    "subjects_train = features_df.subject_id"
   ]
  },
  {
   "cell_type": "markdown",
   "id": "flush-particle",
   "metadata": {},
   "source": [
    "We'll try a range of parameters for the `C` parameter of `LogisticRegression` and `n_components` for the `PCA` model. This is flexible in that one can include other parameters with ranges, but it will only support one model object at a time."
   ]
  },
  {
   "cell_type": "code",
   "execution_count": 16,
   "id": "seventh-nelson",
   "metadata": {},
   "outputs": [],
   "source": [
    "hyperparam_dict = {'lr__C': [0.001, 0.01, 0.1, 1., 10., 100., 1000.],\n",
    "                   'pca__n_components': [150, 200, 250]}"
   ]
  },
  {
   "cell_type": "code",
   "execution_count": 19,
   "id": "known-episode",
   "metadata": {},
   "outputs": [],
   "source": [
    "model_pipe = Pipeline([('ss', StandardScaler()),\n",
    "                       ('pca', PCA()),\n",
    "                       ('lr', LogisticRegression(solver='liblinear'))])\n",
    "search_pipe = GridSearchCV(estimator=model_pipe,\n",
    "                           param_grid=hyperparam_dict,\n",
    "                           cv = cv_group.split(X_train, y_train, groups=subjects_train),\n",
    "                           n_jobs=-1)"
   ]
  },
  {
   "cell_type": "markdown",
   "id": "super-graphic",
   "metadata": {},
   "source": [
    "### Model training / searching"
   ]
  },
  {
   "cell_type": "markdown",
   "id": "primary-static",
   "metadata": {},
   "source": [
    "The `GridSearchCV` works like any model `Pipeline` or an individual model (or \"estimator\") in that it has a `.fit` method to \"train\" the model (performing the model search), and a `.predict` method to apply the chosen model to data.\n",
    "\n",
    "To get the `Pipeline` it chose, it provides a `.best_estimator_` attribute once it's trained. "
   ]
  },
  {
   "cell_type": "code",
   "execution_count": 20,
   "id": "civil-certificate",
   "metadata": {},
   "outputs": [
    {
     "data": {
      "text/plain": [
       "Pipeline(steps=[('ss', StandardScaler()), ('pca', PCA(n_components=250)),\n",
       "                ('lr', LogisticRegression(solver='liblinear'))])"
      ]
     },
     "execution_count": 20,
     "metadata": {},
     "output_type": "execute_result"
    }
   ],
   "source": [
    "search_pipe_fit = search_pipe.fit(X_train, y_train)\n",
    "search_pipe_fit.best_estimator_"
   ]
  },
  {
   "cell_type": "markdown",
   "id": "derived-eight",
   "metadata": {},
   "source": [
    "Separately, the hyperparameters can be found using the `.best_params_` attribute."
   ]
  },
  {
   "cell_type": "code",
   "execution_count": 21,
   "id": "substantial-minister",
   "metadata": {},
   "outputs": [
    {
     "data": {
      "text/plain": [
       "{'lr__C': 1.0, 'pca__n_components': 250}"
      ]
     },
     "execution_count": 21,
     "metadata": {},
     "output_type": "execute_result"
    }
   ],
   "source": [
    "search_pipe_fit.best_params_"
   ]
  },
  {
   "cell_type": "markdown",
   "id": "deadly-specific",
   "metadata": {},
   "source": [
    "### Evaluate on the test data\n",
    "\n",
    "We evaluate the model on the test data that was defined by the authors. `sklearn` provides a convenience function `accuracy_score` to compute the accuracy, and `classification_report` to compute precision, recall, F1-score."
   ]
  },
  {
   "cell_type": "code",
   "execution_count": 12,
   "id": "isolated-filing",
   "metadata": {},
   "outputs": [],
   "source": [
    "y_test_hat = search_pipe_fit \\\n",
    "    .predict(features_test_df.drop(['subject_id', 'time_exp', 'activity_name'], axis=1))"
   ]
  },
  {
   "cell_type": "code",
   "execution_count": 13,
   "id": "constant-council",
   "metadata": {},
   "outputs": [
    {
     "name": "stdout",
     "output_type": "stream",
     "text": [
      "                    precision    recall  f1-score   support\n",
      "\n",
      "            LAYING       1.00      1.00      1.00       537\n",
      "           SITTING       0.90      0.93      0.91       476\n",
      "          STANDING       0.93      0.91      0.92       547\n",
      "           WALKING       0.97      0.89      0.93       537\n",
      "WALKING_DOWNSTAIRS       0.83      0.95      0.89       365\n",
      "  WALKING_UPSTAIRS       0.91      0.88      0.90       485\n",
      "\n",
      "          accuracy                           0.93      2947\n",
      "         macro avg       0.92      0.93      0.92      2947\n",
      "      weighted avg       0.93      0.93      0.93      2947\n",
      "\n"
     ]
    }
   ],
   "source": [
    "from sklearn.metrics import accuracy_score, classification_report\n",
    "print(classification_report(y_test_hat, features_test_df.activity_name))"
   ]
  },
  {
   "cell_type": "markdown",
   "id": "artistic-desire",
   "metadata": {},
   "source": [
    "When we cross-tabulate the actual labels with the classified ones, we see a pretty diagonal matrix. Indeed, laying has been 100% correct.\n",
    "\n",
    "Here we will want to validate if the errors made are acceptable. For example, errors for walking downstairs are either walking or walking upstairs. It may be important to continue tuning parameters such that this activity is never (or less commonly) misclassified as walking upstairs."
   ]
  },
  {
   "cell_type": "code",
   "execution_count": 14,
   "id": "large-board",
   "metadata": {},
   "outputs": [
    {
     "data": {
      "text/html": [
       "<div>\n",
       "<style scoped>\n",
       "    .dataframe tbody tr th:only-of-type {\n",
       "        vertical-align: middle;\n",
       "    }\n",
       "\n",
       "    .dataframe tbody tr th {\n",
       "        vertical-align: top;\n",
       "    }\n",
       "\n",
       "    .dataframe thead th {\n",
       "        text-align: right;\n",
       "    }\n",
       "</style>\n",
       "<table border=\"1\" class=\"dataframe\">\n",
       "  <thead>\n",
       "    <tr style=\"text-align: right;\">\n",
       "      <th>Classified</th>\n",
       "      <th>LAYING</th>\n",
       "      <th>SITTING</th>\n",
       "      <th>STANDING</th>\n",
       "      <th>WALKING</th>\n",
       "      <th>WALKING_DOWNSTAIRS</th>\n",
       "      <th>WALKING_UPSTAIRS</th>\n",
       "    </tr>\n",
       "    <tr>\n",
       "      <th>True</th>\n",
       "      <th></th>\n",
       "      <th></th>\n",
       "      <th></th>\n",
       "      <th></th>\n",
       "      <th></th>\n",
       "      <th></th>\n",
       "    </tr>\n",
       "  </thead>\n",
       "  <tbody>\n",
       "    <tr>\n",
       "      <th>LAYING</th>\n",
       "      <td>537</td>\n",
       "      <td>0</td>\n",
       "      <td>0</td>\n",
       "      <td>0</td>\n",
       "      <td>0</td>\n",
       "      <td>0</td>\n",
       "    </tr>\n",
       "    <tr>\n",
       "      <th>SITTING</th>\n",
       "      <td>0</td>\n",
       "      <td>441</td>\n",
       "      <td>50</td>\n",
       "      <td>0</td>\n",
       "      <td>0</td>\n",
       "      <td>0</td>\n",
       "    </tr>\n",
       "    <tr>\n",
       "      <th>STANDING</th>\n",
       "      <td>0</td>\n",
       "      <td>35</td>\n",
       "      <td>497</td>\n",
       "      <td>0</td>\n",
       "      <td>0</td>\n",
       "      <td>0</td>\n",
       "    </tr>\n",
       "    <tr>\n",
       "      <th>WALKING</th>\n",
       "      <td>0</td>\n",
       "      <td>0</td>\n",
       "      <td>0</td>\n",
       "      <td>479</td>\n",
       "      <td>10</td>\n",
       "      <td>7</td>\n",
       "    </tr>\n",
       "    <tr>\n",
       "      <th>WALKING_DOWNSTAIRS</th>\n",
       "      <td>0</td>\n",
       "      <td>0</td>\n",
       "      <td>0</td>\n",
       "      <td>22</td>\n",
       "      <td>348</td>\n",
       "      <td>50</td>\n",
       "    </tr>\n",
       "    <tr>\n",
       "      <th>WALKING_UPSTAIRS</th>\n",
       "      <td>0</td>\n",
       "      <td>0</td>\n",
       "      <td>0</td>\n",
       "      <td>36</td>\n",
       "      <td>7</td>\n",
       "      <td>428</td>\n",
       "    </tr>\n",
       "  </tbody>\n",
       "</table>\n",
       "</div>"
      ],
      "text/plain": [
       "Classified          LAYING  SITTING  STANDING  WALKING  WALKING_DOWNSTAIRS  \\\n",
       "True                                                                         \n",
       "LAYING                 537        0         0        0                   0   \n",
       "SITTING                  0      441        50        0                   0   \n",
       "STANDING                 0       35       497        0                   0   \n",
       "WALKING                  0        0         0      479                  10   \n",
       "WALKING_DOWNSTAIRS       0        0         0       22                 348   \n",
       "WALKING_UPSTAIRS         0        0         0       36                   7   \n",
       "\n",
       "Classified          WALKING_UPSTAIRS  \n",
       "True                                  \n",
       "LAYING                             0  \n",
       "SITTING                            0  \n",
       "STANDING                           0  \n",
       "WALKING                            7  \n",
       "WALKING_DOWNSTAIRS                50  \n",
       "WALKING_UPSTAIRS                 428  "
      ]
     },
     "execution_count": 14,
     "metadata": {},
     "output_type": "execute_result"
    }
   ],
   "source": [
    "pd.crosstab(features_test_df.activity_name.values,\n",
    "            y_test_hat,\n",
    "            rownames=['True'],\n",
    "            colnames=['Classified'])"
   ]
  },
  {
   "cell_type": "code",
   "execution_count": null,
   "id": "outside-ballet",
   "metadata": {},
   "outputs": [],
   "source": []
  }
 ],
 "metadata": {
  "kernelspec": {
   "display_name": "Python 3",
   "language": "python",
   "name": "python3"
  },
  "language_info": {
   "codemirror_mode": {
    "name": "ipython",
    "version": 3
   },
   "file_extension": ".py",
   "mimetype": "text/x-python",
   "name": "python",
   "nbconvert_exporter": "python",
   "pygments_lexer": "ipython3",
   "version": "3.8.6"
  }
 },
 "nbformat": 4,
 "nbformat_minor": 5
}
